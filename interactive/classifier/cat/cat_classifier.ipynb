{
 "cells": [
  {
   "cell_type": "code",
   "execution_count": null,
   "metadata": {},
   "outputs": [],
   "source": [
    "\"\"\"\n",
    "Classify a tweet as being one of the following categories:\n",
    "601:\n",
    "602:\n",
    "603:\n",
    "604:\n",
    "605:\n",
    "606:\n",
    "607:\n",
    "\n",
    "Currently only supports english tweets.\n",
    "\"\"\""
   ]
  }
 ],
 "metadata": {
  "language_info": {
   "name": "python"
  },
  "orig_nbformat": 4
 },
 "nbformat": 4,
 "nbformat_minor": 2
}
