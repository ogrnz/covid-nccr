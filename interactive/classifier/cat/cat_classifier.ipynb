{
 "cells": [
  {
   "cell_type": "code",
   "execution_count": null,
   "metadata": {},
   "outputs": [],
   "source": [
    "\"\"\"\n",
    "Classify a tweet as being one of the following categories:\n",
    "601:\n",
    "602:\n",
    "603:\n",
    "604:\n",
    "605:\n",
    "606:\n",
    "607:\n",
    "\n",
    "Currently only supports english tweets.\n",
    "\"\"\""
   ]
  },
  {
   "cell_type": "code",
   "execution_count": 4,
   "metadata": {},
   "outputs": [],
   "source": [
    "import sys, os\n",
    "\n",
    "sys.path.append(os.path.abspath(os.path.join(\"..\", \"..\", \"..\", \"src\")))\n",
    "\n",
    "import pandas as pd\n",
    "from tqdm import tqdm\n",
    "\n",
    "from common.database import Database\n",
    "from common.app import App\n",
    "from common.helpers import Helpers"
   ]
  },
  {
   "cell_type": "code",
   "execution_count": 11,
   "metadata": {},
   "outputs": [
    {
     "name": "stdout",
     "output_type": "stream",
     "text": [
      "<class 'pandas.core.frame.DataFrame'>\n",
      "RangeIndex: 238523 entries, 0 to 238522\n",
      "Data columns (total 17 columns):\n",
      " #   Column           Non-Null Count   Dtype  \n",
      "---  ------           --------------   -----  \n",
      " 0   tweet_id         238523 non-null  object \n",
      " 1   covid_theme      238523 non-null  int64  \n",
      " 2   created_at       238523 non-null  object \n",
      " 3   handle           238523 non-null  object \n",
      " 4   name             238523 non-null  object \n",
      " 5   old_text         152734 non-null  object \n",
      " 6   text             237543 non-null  object \n",
      " 7   url              238256 non-null  object \n",
      " 8   type             238523 non-null  object \n",
      " 9   retweets         233824 non-null  float64\n",
      " 10  favorites        233824 non-null  float64\n",
      " 11  topic            85303 non-null   float64\n",
      " 12  subcat           15813 non-null   float64\n",
      " 13  position         15813 non-null   float64\n",
      " 14  frame            15813 non-null   float64\n",
      " 15  theme_hardcoded  32524 non-null   object \n",
      " 16  en_detect        238523 non-null  bool   \n",
      "dtypes: bool(1), float64(6), int64(1), object(9)\n",
      "memory usage: 29.3+ MB\n"
     ]
    }
   ],
   "source": [
    "app_run = App(debug=False)\n",
    "data_path = os.path.join(app_run.root_dir, \"interactive\", \"data\")\n",
    "df = pd.read_pickle(os.path.join(data_path, \"db_en_detect.pkl\"))\n",
    "df.info()"
   ]
  },
  {
   "cell_type": "code",
   "execution_count": 22,
   "metadata": {},
   "outputs": [
    {
     "name": "stdout",
     "output_type": "stream",
     "text": [
      "<class 'pandas.core.frame.DataFrame'>\n",
      "Int64Index: 59242 entries, 1225 to 234043\n",
      "Data columns (total 17 columns):\n",
      " #   Column           Non-Null Count  Dtype  \n",
      "---  ------           --------------  -----  \n",
      " 0   tweet_id         59242 non-null  object \n",
      " 1   covid_theme      59242 non-null  int64  \n",
      " 2   created_at       59242 non-null  object \n",
      " 3   handle           59242 non-null  object \n",
      " 4   name             59242 non-null  object \n",
      " 5   old_text         32926 non-null  object \n",
      " 6   text             59242 non-null  object \n",
      " 7   url              59242 non-null  object \n",
      " 8   type             59242 non-null  object \n",
      " 9   retweets         55742 non-null  float64\n",
      " 10  favorites        55742 non-null  float64\n",
      " 11  topic            59242 non-null  float64\n",
      " 12  subcat           9745 non-null   float64\n",
      " 13  position         9745 non-null   float64\n",
      " 14  frame            9745 non-null   float64\n",
      " 15  theme_hardcoded  1849 non-null   object \n",
      " 16  en_detect        59242 non-null  bool   \n",
      "dtypes: bool(1), float64(6), int64(1), object(9)\n",
      "memory usage: 7.7+ MB\n"
     ]
    }
   ],
   "source": [
    "# Keep english tweets that are coded and not 608\n",
    "df = df[(df[\"en_detect\"] == True) & (~df[\"topic\"].isnull()) & (~df[\"topic\"].isin([608, 608.0]))]\n",
    "df.info()"
   ]
  },
  {
   "cell_type": "code",
   "execution_count": 23,
   "metadata": {},
   "outputs": [],
   "source": [
    "# Let's work"
   ]
  }
 ],
 "metadata": {
  "interpreter": {
   "hash": "607ef8f85d38ab7d98d9598c26f0a0f70958ff3fe818996b9742fe1433b73592"
  },
  "kernelspec": {
   "display_name": "Python 3.8.10 64-bit ('venv': venv)",
   "language": "python",
   "name": "python3"
  },
  "language_info": {
   "codemirror_mode": {
    "name": "ipython",
    "version": 3
   },
   "file_extension": ".py",
   "mimetype": "text/x-python",
   "name": "python",
   "nbconvert_exporter": "python",
   "pygments_lexer": "ipython3",
   "version": "3.8.10"
  },
  "orig_nbformat": 4
 },
 "nbformat": 4,
 "nbformat_minor": 2
}
