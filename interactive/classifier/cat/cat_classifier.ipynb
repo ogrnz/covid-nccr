{
 "cells": [
  {
   "cell_type": "code",
   "execution_count": null,
   "metadata": {},
   "outputs": [],
   "source": [
    "\"\"\"\n",
    "Classify a tweet as being one of the following categories:\n",
    "601:\n",
    "602:\n",
    "603:\n",
    "604:\n",
    "605:\n",
    "606:\n",
    "607:\n",
    "\n",
    "Currently only supports english tweets.\n",
    "\"\"\""
   ]
  },
  {
   "cell_type": "code",
   "execution_count": 161,
   "metadata": {},
   "outputs": [],
   "source": [
    "import sys, os\n",
    "\n",
    "sys.path.append(os.path.abspath(os.path.join(\"..\", \"..\", \"..\", \"src\")))\n",
    "\n",
    "import pandas as pd\n",
    "import numpy as np\n",
    "import matplotlib as plt\n",
    "\n",
    "from tqdm import tqdm\n",
    "\n",
    "from sklearn.model_selection import train_test_split\n",
    "from sklearn.feature_extraction.text import TfidfVectorizer\n",
    "from sklearn.pipeline import Pipeline\n",
    "from sklearn.naive_bayes import MultinomialNB\n",
    "from sklearn.metrics import classification_report\n",
    "\n",
    "from nltk.corpus import stopwords\n",
    "from nltk.tokenize.casual import TweetTokenizer\n",
    "from nltk.stem.wordnet import WordNetLemmatizer\n",
    "\n",
    "from common.app import App\n",
    "from common.helpers import Helpers"
   ]
  },
  {
   "cell_type": "markdown",
   "metadata": {},
   "source": [
    "### Setup"
   ]
  },
  {
   "cell_type": "code",
   "execution_count": 5,
   "metadata": {},
   "outputs": [
    {
     "name": "stdout",
     "output_type": "stream",
     "text": [
      "<class 'pandas.core.frame.DataFrame'>\n",
      "RangeIndex: 238523 entries, 0 to 238522\n",
      "Data columns (total 17 columns):\n",
      " #   Column           Non-Null Count   Dtype  \n",
      "---  ------           --------------   -----  \n",
      " 0   tweet_id         238523 non-null  object \n",
      " 1   covid_theme      238523 non-null  int64  \n",
      " 2   created_at       238523 non-null  object \n",
      " 3   handle           238523 non-null  object \n",
      " 4   name             238523 non-null  object \n",
      " 5   old_text         152734 non-null  object \n",
      " 6   text             237543 non-null  object \n",
      " 7   url              238256 non-null  object \n",
      " 8   type             238523 non-null  object \n",
      " 9   retweets         233824 non-null  float64\n",
      " 10  favorites        233824 non-null  float64\n",
      " 11  topic            85303 non-null   float64\n",
      " 12  subcat           15813 non-null   float64\n",
      " 13  position         15813 non-null   float64\n",
      " 14  frame            15813 non-null   float64\n",
      " 15  theme_hardcoded  32524 non-null   object \n",
      " 16  en_detect        238523 non-null  bool   \n",
      "dtypes: bool(1), float64(6), int64(1), object(9)\n",
      "memory usage: 29.3+ MB\n"
     ]
    }
   ],
   "source": [
    "app_run = App(debug=False)\n",
    "data_path = os.path.join(app_run.root_dir, \"interactive\", \"data\")\n",
    "df = pd.read_pickle(os.path.join(data_path, \"db_en_detect.pkl\"))\n",
    "df.info()"
   ]
  },
  {
   "cell_type": "code",
   "execution_count": 6,
   "metadata": {},
   "outputs": [
    {
     "name": "stdout",
     "output_type": "stream",
     "text": [
      "<class 'pandas.core.frame.DataFrame'>\n",
      "Int64Index: 59242 entries, 1225 to 234043\n",
      "Data columns (total 17 columns):\n",
      " #   Column           Non-Null Count  Dtype  \n",
      "---  ------           --------------  -----  \n",
      " 0   tweet_id         59242 non-null  object \n",
      " 1   covid_theme      59242 non-null  int64  \n",
      " 2   created_at       59242 non-null  object \n",
      " 3   handle           59242 non-null  object \n",
      " 4   name             59242 non-null  object \n",
      " 5   old_text         32926 non-null  object \n",
      " 6   text             59242 non-null  object \n",
      " 7   url              59242 non-null  object \n",
      " 8   type             59242 non-null  object \n",
      " 9   retweets         55742 non-null  float64\n",
      " 10  favorites        55742 non-null  float64\n",
      " 11  topic            59242 non-null  float64\n",
      " 12  subcat           9745 non-null   float64\n",
      " 13  position         9745 non-null   float64\n",
      " 14  frame            9745 non-null   float64\n",
      " 15  theme_hardcoded  1849 non-null   object \n",
      " 16  en_detect        59242 non-null  bool   \n",
      "dtypes: bool(1), float64(6), int64(1), object(9)\n",
      "memory usage: 7.7+ MB\n"
     ]
    }
   ],
   "source": [
    "# Keep english tweets that are coded and not 608\n",
    "df = df[(df[\"en_detect\"] == True) & (~df[\"topic\"].isnull()) & (~df[\"topic\"].isin([608, 608.0]))]\n",
    "df.info()"
   ]
  },
  {
   "cell_type": "code",
   "execution_count": 25,
   "metadata": {},
   "outputs": [
    {
     "name": "stdout",
     "output_type": "stream",
     "text": [
      "df_train.shape=(42653, 17) df_valid.shape=(10664, 17) df_test.shape=(5925, 17)\n"
     ]
    }
   ],
   "source": [
    "# Set seed\n",
    "SEED = 31415\n",
    "\n",
    "# Train test split\n",
    "df_train, df_test = train_test_split(df, test_size=0.1, random_state=SEED)\n",
    "df_train, df_valid = train_test_split(df_train, test_size=0.20, random_state=SEED)\n",
    "\n",
    "print(f\"{df_train.shape=} {df_valid.shape=} {df_test.shape=}\")"
   ]
  },
  {
   "cell_type": "code",
   "execution_count": 27,
   "metadata": {},
   "outputs": [
    {
     "data": {
      "text/html": [
       "<div>\n",
       "<style scoped>\n",
       "    .dataframe tbody tr th:only-of-type {\n",
       "        vertical-align: middle;\n",
       "    }\n",
       "\n",
       "    .dataframe tbody tr th {\n",
       "        vertical-align: top;\n",
       "    }\n",
       "\n",
       "    .dataframe thead th {\n",
       "        text-align: right;\n",
       "    }\n",
       "</style>\n",
       "<table border=\"1\" class=\"dataframe\">\n",
       "  <thead>\n",
       "    <tr style=\"text-align: right;\">\n",
       "      <th></th>\n",
       "      <th>index</th>\n",
       "      <th>topic</th>\n",
       "      <th>prop</th>\n",
       "    </tr>\n",
       "  </thead>\n",
       "  <tbody>\n",
       "    <tr>\n",
       "      <th>0</th>\n",
       "      <td>602.0</td>\n",
       "      <td>27315</td>\n",
       "      <td>0.461075</td>\n",
       "    </tr>\n",
       "    <tr>\n",
       "      <th>1</th>\n",
       "      <td>601.0</td>\n",
       "      <td>9737</td>\n",
       "      <td>0.164360</td>\n",
       "    </tr>\n",
       "    <tr>\n",
       "      <th>2</th>\n",
       "      <td>605.0</td>\n",
       "      <td>8970</td>\n",
       "      <td>0.151413</td>\n",
       "    </tr>\n",
       "    <tr>\n",
       "      <th>3</th>\n",
       "      <td>604.0</td>\n",
       "      <td>7708</td>\n",
       "      <td>0.130110</td>\n",
       "    </tr>\n",
       "    <tr>\n",
       "      <th>4</th>\n",
       "      <td>603.0</td>\n",
       "      <td>4663</td>\n",
       "      <td>0.078711</td>\n",
       "    </tr>\n",
       "    <tr>\n",
       "      <th>5</th>\n",
       "      <td>606.0</td>\n",
       "      <td>508</td>\n",
       "      <td>0.008575</td>\n",
       "    </tr>\n",
       "    <tr>\n",
       "      <th>6</th>\n",
       "      <td>607.0</td>\n",
       "      <td>341</td>\n",
       "      <td>0.005756</td>\n",
       "    </tr>\n",
       "  </tbody>\n",
       "</table>\n",
       "</div>"
      ],
      "text/plain": [
       "   index  topic      prop\n",
       "0  602.0  27315  0.461075\n",
       "1  601.0   9737  0.164360\n",
       "2  605.0   8970  0.151413\n",
       "3  604.0   7708  0.130110\n",
       "4  603.0   4663  0.078711\n",
       "5  606.0    508  0.008575\n",
       "6  607.0    341  0.005756"
      ]
     },
     "metadata": {},
     "output_type": "display_data"
    },
    {
     "data": {
      "text/html": [
       "<div>\n",
       "<style scoped>\n",
       "    .dataframe tbody tr th:only-of-type {\n",
       "        vertical-align: middle;\n",
       "    }\n",
       "\n",
       "    .dataframe tbody tr th {\n",
       "        vertical-align: top;\n",
       "    }\n",
       "\n",
       "    .dataframe thead th {\n",
       "        text-align: right;\n",
       "    }\n",
       "</style>\n",
       "<table border=\"1\" class=\"dataframe\">\n",
       "  <thead>\n",
       "    <tr style=\"text-align: right;\">\n",
       "      <th></th>\n",
       "      <th>index</th>\n",
       "      <th>topic</th>\n",
       "      <th>prop</th>\n",
       "    </tr>\n",
       "  </thead>\n",
       "  <tbody>\n",
       "    <tr>\n",
       "      <th>0</th>\n",
       "      <td>602.0</td>\n",
       "      <td>19642</td>\n",
       "      <td>0.460507</td>\n",
       "    </tr>\n",
       "    <tr>\n",
       "      <th>1</th>\n",
       "      <td>601.0</td>\n",
       "      <td>7035</td>\n",
       "      <td>0.164936</td>\n",
       "    </tr>\n",
       "    <tr>\n",
       "      <th>2</th>\n",
       "      <td>605.0</td>\n",
       "      <td>6433</td>\n",
       "      <td>0.150822</td>\n",
       "    </tr>\n",
       "    <tr>\n",
       "      <th>3</th>\n",
       "      <td>604.0</td>\n",
       "      <td>5542</td>\n",
       "      <td>0.129932</td>\n",
       "    </tr>\n",
       "    <tr>\n",
       "      <th>4</th>\n",
       "      <td>603.0</td>\n",
       "      <td>3381</td>\n",
       "      <td>0.079268</td>\n",
       "    </tr>\n",
       "    <tr>\n",
       "      <th>5</th>\n",
       "      <td>606.0</td>\n",
       "      <td>363</td>\n",
       "      <td>0.008511</td>\n",
       "    </tr>\n",
       "    <tr>\n",
       "      <th>6</th>\n",
       "      <td>607.0</td>\n",
       "      <td>257</td>\n",
       "      <td>0.006025</td>\n",
       "    </tr>\n",
       "  </tbody>\n",
       "</table>\n",
       "</div>"
      ],
      "text/plain": [
       "   index  topic      prop\n",
       "0  602.0  19642  0.460507\n",
       "1  601.0   7035  0.164936\n",
       "2  605.0   6433  0.150822\n",
       "3  604.0   5542  0.129932\n",
       "4  603.0   3381  0.079268\n",
       "5  606.0    363  0.008511\n",
       "6  607.0    257  0.006025"
      ]
     },
     "metadata": {},
     "output_type": "display_data"
    },
    {
     "data": {
      "text/html": [
       "<div>\n",
       "<style scoped>\n",
       "    .dataframe tbody tr th:only-of-type {\n",
       "        vertical-align: middle;\n",
       "    }\n",
       "\n",
       "    .dataframe tbody tr th {\n",
       "        vertical-align: top;\n",
       "    }\n",
       "\n",
       "    .dataframe thead th {\n",
       "        text-align: right;\n",
       "    }\n",
       "</style>\n",
       "<table border=\"1\" class=\"dataframe\">\n",
       "  <thead>\n",
       "    <tr style=\"text-align: right;\">\n",
       "      <th></th>\n",
       "      <th>index</th>\n",
       "      <th>topic</th>\n",
       "      <th>prop</th>\n",
       "    </tr>\n",
       "  </thead>\n",
       "  <tbody>\n",
       "    <tr>\n",
       "      <th>0</th>\n",
       "      <td>602.0</td>\n",
       "      <td>4975</td>\n",
       "      <td>0.466523</td>\n",
       "    </tr>\n",
       "    <tr>\n",
       "      <th>1</th>\n",
       "      <td>601.0</td>\n",
       "      <td>1750</td>\n",
       "      <td>0.164104</td>\n",
       "    </tr>\n",
       "    <tr>\n",
       "      <th>2</th>\n",
       "      <td>605.0</td>\n",
       "      <td>1579</td>\n",
       "      <td>0.148068</td>\n",
       "    </tr>\n",
       "    <tr>\n",
       "      <th>3</th>\n",
       "      <td>604.0</td>\n",
       "      <td>1417</td>\n",
       "      <td>0.132877</td>\n",
       "    </tr>\n",
       "    <tr>\n",
       "      <th>4</th>\n",
       "      <td>603.0</td>\n",
       "      <td>797</td>\n",
       "      <td>0.074737</td>\n",
       "    </tr>\n",
       "    <tr>\n",
       "      <th>5</th>\n",
       "      <td>606.0</td>\n",
       "      <td>98</td>\n",
       "      <td>0.009190</td>\n",
       "    </tr>\n",
       "    <tr>\n",
       "      <th>6</th>\n",
       "      <td>607.0</td>\n",
       "      <td>48</td>\n",
       "      <td>0.004501</td>\n",
       "    </tr>\n",
       "  </tbody>\n",
       "</table>\n",
       "</div>"
      ],
      "text/plain": [
       "   index  topic      prop\n",
       "0  602.0   4975  0.466523\n",
       "1  601.0   1750  0.164104\n",
       "2  605.0   1579  0.148068\n",
       "3  604.0   1417  0.132877\n",
       "4  603.0    797  0.074737\n",
       "5  606.0     98  0.009190\n",
       "6  607.0     48  0.004501"
      ]
     },
     "metadata": {},
     "output_type": "display_data"
    },
    {
     "data": {
      "text/html": [
       "<div>\n",
       "<style scoped>\n",
       "    .dataframe tbody tr th:only-of-type {\n",
       "        vertical-align: middle;\n",
       "    }\n",
       "\n",
       "    .dataframe tbody tr th {\n",
       "        vertical-align: top;\n",
       "    }\n",
       "\n",
       "    .dataframe thead th {\n",
       "        text-align: right;\n",
       "    }\n",
       "</style>\n",
       "<table border=\"1\" class=\"dataframe\">\n",
       "  <thead>\n",
       "    <tr style=\"text-align: right;\">\n",
       "      <th></th>\n",
       "      <th>index</th>\n",
       "      <th>topic</th>\n",
       "      <th>prop</th>\n",
       "    </tr>\n",
       "  </thead>\n",
       "  <tbody>\n",
       "    <tr>\n",
       "      <th>0</th>\n",
       "      <td>602.0</td>\n",
       "      <td>2698</td>\n",
       "      <td>0.455359</td>\n",
       "    </tr>\n",
       "    <tr>\n",
       "      <th>1</th>\n",
       "      <td>605.0</td>\n",
       "      <td>958</td>\n",
       "      <td>0.161688</td>\n",
       "    </tr>\n",
       "    <tr>\n",
       "      <th>2</th>\n",
       "      <td>601.0</td>\n",
       "      <td>952</td>\n",
       "      <td>0.160675</td>\n",
       "    </tr>\n",
       "    <tr>\n",
       "      <th>3</th>\n",
       "      <td>604.0</td>\n",
       "      <td>749</td>\n",
       "      <td>0.126414</td>\n",
       "    </tr>\n",
       "    <tr>\n",
       "      <th>4</th>\n",
       "      <td>603.0</td>\n",
       "      <td>485</td>\n",
       "      <td>0.081857</td>\n",
       "    </tr>\n",
       "    <tr>\n",
       "      <th>5</th>\n",
       "      <td>606.0</td>\n",
       "      <td>47</td>\n",
       "      <td>0.007932</td>\n",
       "    </tr>\n",
       "    <tr>\n",
       "      <th>6</th>\n",
       "      <td>607.0</td>\n",
       "      <td>36</td>\n",
       "      <td>0.006076</td>\n",
       "    </tr>\n",
       "  </tbody>\n",
       "</table>\n",
       "</div>"
      ],
      "text/plain": [
       "   index  topic      prop\n",
       "0  602.0   2698  0.455359\n",
       "1  605.0    958  0.161688\n",
       "2  601.0    952  0.160675\n",
       "3  604.0    749  0.126414\n",
       "4  603.0    485  0.081857\n",
       "5  606.0     47  0.007932\n",
       "6  607.0     36  0.006076"
      ]
     },
     "metadata": {},
     "output_type": "display_data"
    },
    {
     "data": {
      "image/png": "[encoded data removed]",
      "text/plain": [
       "<Figure size 432x288 with 1 Axes>"
      ]
     },
     "metadata": {
      "needs_background": "dark"
     },
     "output_type": "display_data"
    },
    {
     "data": {
      "image/png": "[encoded data removed]",
      "text/plain": [
       "<Figure size 432x288 with 1 Axes>"
      ]
     },
     "metadata": {
      "needs_background": "dark"
     },
     "output_type": "display_data"
    },
    {
     "data": {
      "image/png": "[encoded data removed]",
      "text/plain": [
       "<Figure size 432x288 with 1 Axes>"
      ]
     },
     "metadata": {
      "needs_background": "dark"
     },
     "output_type": "display_data"
    },
    {
     "data": {
      "image/png": "[encoded data removed]",
      "text/plain": [
       "<Figure size 432x288 with 1 Axes>"
      ]
     },
     "metadata": {
      "needs_background": "dark"
     },
     "output_type": "display_data"
    }
   ],
   "source": [
    "# (very) small EDA to check topics\n",
    "for df_tmp, title in zip([df, df_train, df_valid, df_test], [\"Whole set\", \"Train\", \"Valid\", \"Test\"]):\n",
    "    topic_counts = pd.DataFrame(df_tmp[\"topic\"].value_counts()).reset_index()\n",
    "    topic_counts[\"prop\"] = topic_counts[\"topic\"] / np.sum(topic_counts[\"topic\"])\n",
    "    display(topic_counts)\n",
    "    ax = topic_counts.plot.bar(x=\"index\", y=\"topic\")\n",
    "    ax.set_title(title)\n",
    "    ax.title.set_color(\"white\")\n",
    "    ax.xaxis.label.set_color(\"white\")\n",
    "    ax.tick_params(colors=\"white\", which=\"both\") \n",
    "\n",
    "# 606 and 607 probably be an issue\n",
    "# hopefully not the others"
   ]
  },
  {
   "cell_type": "markdown",
   "metadata": {},
   "source": [
    "### Preprocessing"
   ]
  },
  {
   "cell_type": "markdown",
   "metadata": {},
   "source": [
    "As proposed by [Zahera et al. 2019](https://trec.nist.gov/pubs/trec28/papers/DICE_UPB.IS.pdf):\n",
    "- Stop-words, URLs, usernames and unicode-characters are removed.\n",
    "- Extra white-spaces, repeated full stops, question marks and exclamation marks are removed.\n",
    "- ~~Emojis were converted to text using the python library emoji~~\n",
    "- Lemmatization, restoring language vocabulary to general form (can express complete\n",
    "semantics) by WordNetLemmatizer 5 .\n",
    "- Finally all tweet tokens are converted to lower-case.\n",
    "  \n",
    "--- \n",
    "\n",
    "- add tweet type?\n",
    "- add authorusername?\n",
    "- not remove handles?"
   ]
  },
  {
   "cell_type": "code",
   "execution_count": 140,
   "metadata": {},
   "outputs": [],
   "source": [
    "en_stopwords = set(stopwords.words(\"english\"))\n",
    "tokenizer = TweetTokenizer(preserve_case=False, match_phone_numbers=False)\n",
    "lemmatizer = WordNetLemmatizer()\n",
    "\n",
    "def preprocess(txt):\n",
    "    tokens = tokenizer.tokenize(txt)\n",
    "\n",
    "    for i, token in enumerate(tokens):\n",
    "        if token in en_stopwords or token in (\",\", \"?\", \"!\", \":\", \".\"):\n",
    "            tokens[i] = \"[DEL]\"\n",
    "            continue\n",
    "        elif token.startswith(\"http\"):\n",
    "            tokens[i] = \"[URL]\"\n",
    "            continue\n",
    "        elif token.startswith(\"@\"):\n",
    "            tokens[i] = \"[HANDLE]\"\n",
    "            continue\n",
    "        else:\n",
    "            tokens[i] = lemmatizer.lemmatize(token)\n",
    "            \n",
    "    while True:\n",
    "        try:\n",
    "            tokens.remove(\"[DEL]\")\n",
    "        except ValueError:\n",
    "            break\n",
    "    return \" \".join(tokens)\n",
    "\n"
   ]
  },
  {
   "cell_type": "code",
   "execution_count": 142,
   "metadata": {},
   "outputs": [
    {
     "name": "stdout",
     "output_type": "stream",
     "text": [
      "When will you meet production expectations, @AstraZeneca? People are waiting. We need a delivery schedule for Q2. \n",
      "Time is of the essence. How can we help you so that Europeans get their #vaccines?\n",
      "\n",
      "🗣️ ECR MEP @BeataSzydlo | @EP_Industry @EP_Environment #COVID19 #AstraZeneca https://t.co/KXSz20lYXb\n"
     ]
    },
    {
     "data": {
      "text/plain": [
       "'meet production expectation [HANDLE] people waiting need delivery schedule q2 time essence help european get #vaccines 🗣 ️ ecr mep [HANDLE] | [HANDLE] [HANDLE] #covid19 #astrazeneca [URL]'"
      ]
     },
     "execution_count": 142,
     "metadata": {},
     "output_type": "execute_result"
    }
   ],
   "source": [
    "tw = df[\"text\"].sample(1)\n",
    "print(tw.values[0])\n",
    "preprocess(tw.values[0])\n",
    "\n",
    "# tw = \"Our message to business is clear: @amor if you stand by your workers, we will stand by you. https://t.co/lWMKVlSFyz\"\n",
    "# preprocess(tw)"
   ]
  },
  {
   "cell_type": "markdown",
   "metadata": {},
   "source": [
    "### Baseline (Multinomial naive bayes)"
   ]
  },
  {
   "cell_type": "code",
   "execution_count": 162,
   "metadata": {},
   "outputs": [
    {
     "data": {
      "text/plain": [
       "Pipeline(steps=[('tfidf',\n",
       "                 TfidfVectorizer(preprocessor=<function preprocess at 0x7f8e61e75b80>,\n",
       "                                 tokenizer=<bound method TweetTokenizer.tokenize of <nltk.tokenize.casual.TweetTokenizer object at 0x7f8e64fe3310>>)),\n",
       "                ('clf', MultinomialNB())])"
      ]
     },
     "execution_count": 162,
     "metadata": {},
     "output_type": "execute_result"
    }
   ],
   "source": [
    "X_train, X_valid = df_train[\"text\"], df_valid[\"text\"]\n",
    "y_train, y_valid = df_train[\"topic\"], df_valid[\"topic\"]\n",
    "\n",
    "pipe = Pipeline([\n",
    "    (\"tfidf\", TfidfVectorizer(preprocessor=preprocess, tokenizer=tokenizer.tokenize)),\n",
    "    (\"clf\", MultinomialNB())\n",
    "])\n",
    "pipe.fit(X_train, y_train)"
   ]
  },
  {
   "cell_type": "code",
   "execution_count": 163,
   "metadata": {},
   "outputs": [
    {
     "name": "stdout",
     "output_type": "stream",
     "text": [
      "              precision    recall  f1-score   support\n",
      "\n",
      "       601.0       0.83      0.50      0.62      1750\n",
      "       602.0       0.56      0.97      0.71      4975\n",
      "       603.0       0.89      0.27      0.41       797\n",
      "       604.0       0.73      0.20      0.31      1417\n",
      "       605.0       0.73      0.17      0.28      1579\n",
      "       606.0       0.00      0.00      0.00        98\n",
      "       607.0       0.00      0.00      0.00        48\n",
      "\n",
      "    accuracy                           0.60     10664\n",
      "   macro avg       0.53      0.30      0.33     10664\n",
      "weighted avg       0.67      0.60      0.55     10664\n",
      "\n"
     ]
    },
    {
     "name": "stderr",
     "output_type": "stream",
     "text": [
      "/home/olivier/.virtualenvs/covid-unige/lib/python3.8/site-packages/sklearn/metrics/_classification.py:1318: UndefinedMetricWarning: Precision and F-score are ill-defined and being set to 0.0 in labels with no predicted samples. Use `zero_division` parameter to control this behavior.\n",
      "  _warn_prf(average, modifier, msg_start, len(result))\n",
      "/home/olivier/.virtualenvs/covid-unige/lib/python3.8/site-packages/sklearn/metrics/_classification.py:1318: UndefinedMetricWarning: Precision and F-score are ill-defined and being set to 0.0 in labels with no predicted samples. Use `zero_division` parameter to control this behavior.\n",
      "  _warn_prf(average, modifier, msg_start, len(result))\n",
      "/home/olivier/.virtualenvs/covid-unige/lib/python3.8/site-packages/sklearn/metrics/_classification.py:1318: UndefinedMetricWarning: Precision and F-score are ill-defined and being set to 0.0 in labels with no predicted samples. Use `zero_division` parameter to control this behavior.\n",
      "  _warn_prf(average, modifier, msg_start, len(result))\n"
     ]
    }
   ],
   "source": [
    "# Evaluation\n",
    "y_pred = pipe.predict(X_valid)\n",
    "print(classification_report(y_valid, y_pred))"
   ]
  },
  {
   "cell_type": "markdown",
   "metadata": {},
   "source": [
    "As expected, classes 606 and 607 are not predicted at all. The multinomial model performs worse than the naive baseline of classifying all tweets as 602 (would get ~46% accuracy). \n",
    "\n",
    "Also note the huge difference between precision and recall:\n",
    "need to investigate why 602 tweets performs differently than the others, meaning that it has a big recall but low precision (like all the others)"
   ]
  },
  {
   "cell_type": "markdown",
   "metadata": {},
   "source": [
    "### Bert"
   ]
  },
  {
   "cell_type": "markdown",
   "metadata": {},
   "source": [
    "### CT-BERT\n",
    "[Müller et al. 2020](https://arxiv.org/abs/2005.07503)"
   ]
  },
  {
   "cell_type": "markdown",
   "metadata": {},
   "source": []
  }
 ],
 "metadata": {
  "interpreter": {
   "hash": "607ef8f85d38ab7d98d9598c26f0a0f70958ff3fe818996b9742fe1433b73592"
  },
  "kernelspec": {
   "display_name": "Python 3.8.10 64-bit ('venv': venv)",
   "language": "python",
   "name": "python3"
  },
  "language_info": {
   "codemirror_mode": {
    "name": "ipython",
    "version": 3
   },
   "file_extension": ".py",
   "mimetype": "text/x-python",
   "name": "python",
   "nbconvert_exporter": "python",
   "pygments_lexer": "ipython3",
   "version": "3.8.10"
  },
  "orig_nbformat": 4
 },
 "nbformat": 4,
 "nbformat_minor": 2
}
