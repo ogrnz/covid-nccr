{
 "cells": [
  {
   "cell_type": "code",
   "execution_count": 1,
   "metadata": {
    "tags": [
     "hide"
    ]
   },
   "outputs": [],
   "source": [
    "\"\"\"\n",
    "Retrieve special sets of tweets given needs\n",
    "\"\"\"\n",
    "\n",
    "import sys, os\n",
    "\n",
    "sys.path.append(os.path.abspath(os.path.join(\"..\", \"..\", \"src\")))\n",
    "\n",
    "%load_ext autoreload\n",
    "%autoreload 2\n",
    "import re\n",
    "import time\n",
    "\n",
    "import pandas as pd\n",
    "import numpy as np\n",
    "from tqdm import tqdm\n",
    "\n",
    "tqdm.pandas()\n",
    "\n",
    "from common.database import Database\n",
    "from common.app import App\n",
    "from common.helpers import Helpers\n",
    "\n",
    "app_run = App(debug=True)\n",
    "db = Database(\"tweets.db\", app=app_run)"
   ]
  },
  {
   "cell_type": "code",
   "execution_count": 2,
   "metadata": {
    "tags": []
   },
   "outputs": [
    {
     "name": "stdout",
     "output_type": "stream",
     "text": [
      "238523\n"
     ]
    }
   ],
   "source": [
    "# Get all tweets from db\n",
    "with db:\n",
    "    tws = db.get_all_tweets()\n",
    "print(len(tws))\n",
    "df_all = Helpers.df_from_db(tws)"
   ]
  },
  {
   "cell_type": "code",
   "execution_count": 3,
   "metadata": {},
   "outputs": [
    {
     "name": "stdout",
     "output_type": "stream",
     "text": [
      "len(df_yes)=88651\n"
     ]
    }
   ],
   "source": [
    "# OLD WAY, SHOULD NOT BE USED\n",
    "# get only tweets about covid\n",
    "df_yes = df_all[(df_all[\"covid_theme\"] == 1) & ~(df_all[\"theme_hardcoded\"] == \"0\")].copy()\n",
    "print(f\"{len(df_yes)=}\")"
   ]
  },
  {
   "cell_type": "code",
   "execution_count": 4,
   "metadata": {},
   "outputs": [
    {
     "name": "stdout",
     "output_type": "stream",
     "text": [
      "len(df_yes)=101640\n"
     ]
    }
   ],
   "source": [
    "# New way, should be used\n",
    "df_yes = Helpers.categorize_df_covid(df_all.copy())\n",
    "print(f\"{len(df_yes)=}\")"
   ]
  },
  {
   "cell_type": "code",
   "execution_count": 5,
   "metadata": {
    "tags": []
   },
   "outputs": [
    {
     "name": "stdout",
     "output_type": "stream",
     "text": [
      "len(df_uncoded)=16566\n",
      "len(df_coded)=85074\n"
     ]
    }
   ],
   "source": [
    "# select those that are NOT coded\n",
    "df_uncoded = df_yes[\n",
    "    ~(df_yes[\"topic\"].isin(Helpers.topics_cov))\n",
    "    & ~(df_yes[\"topic\"].isin(Helpers.topics_not_cov))\n",
    "].copy()\n",
    "print(f\"{len(df_uncoded)=}\")\n",
    "\n",
    "# and those that are coded\n",
    "df_coded = df_yes[(df_yes[\"topic\"].isin(Helpers.topics_cov))].copy()\n",
    "print(f\"{len(df_coded)=}\")"
   ]
  },
  {
   "cell_type": "code",
   "execution_count": 6,
   "metadata": {
    "tags": []
   },
   "outputs": [],
   "source": [
    "# Convert date to be handled\n",
    "df_uncoded[\"date\"] = df_uncoded[\"created_at\"].apply(Helpers.convert_date)\n",
    "df_uncoded[\"date\"] = pd.to_datetime(df_uncoded[\"date\"], format=\"%d/%m/%Y\")\n",
    "\n",
    "df_coded[\"date\"] = df_coded[\"created_at\"].apply(Helpers.convert_date)\n",
    "df_coded[\"date\"] = pd.to_datetime(df_coded[\"date\"], format=\"%d/%m/%Y\")\n",
    "\n",
    "df_all[\"date\"] = df_all[\"created_at\"].apply(Helpers.convert_date)\n",
    "df_all[\"date\"] = pd.to_datetime(df_all[\"date\"], format=\"%d/%m/%Y\")\n",
    "\n",
    "df_yes[\"date\"] = df_yes[\"created_at\"].apply(Helpers.convert_date)\n",
    "df_yes[\"date\"] = pd.to_datetime(df_yes[\"date\"], format=\"%d/%m/%Y\")"
   ]
  },
  {
   "cell_type": "code",
   "execution_count": 7,
   "metadata": {
    "collapsed": true,
    "jupyter": {
     "outputs_hidden": true
    },
    "tags": []
   },
   "outputs": [
    {
     "name": "stdout",
     "output_type": "stream",
     "text": [
      "len(df_all_sorted)=185749\n",
      "len(df_yes_sorted)=84233\n",
      "len(df_uncoded_sorted)=2145\n",
      "len(df_coded_sorted)=82088\n"
     ]
    }
   ],
   "source": [
    "# Only keep tweets in the time range\n",
    "df_all_sorted = Helpers.sort_timerange(df_all.copy())\n",
    "print(f\"{len(df_all_sorted)=}\") \n",
    "\n",
    "df_yes_sorted = Helpers.sort_timerange(df_yes.copy())\n",
    "print(f\"{len(df_yes_sorted)=}\") \n",
    "\n",
    "df_uncoded_sorted = Helpers.sort_timerange(df_uncoded.copy())\n",
    "print(f\"{len(df_uncoded_sorted)=}\") \n",
    "\n",
    "df_coded_sorted = Helpers.sort_timerange(df_coded.copy())\n",
    "print(f\"{len(df_coded_sorted)=}\")"
   ]
  },
  {
   "cell_type": "markdown",
   "metadata": {},
   "source": [
    "## Special"
   ]
  },
  {
   "cell_type": "markdown",
   "metadata": {},
   "source": [
    "## 1. Total count\n",
    "In the period of interest, for each actor,  \n",
    "      get total number of tweets  \n",
    "      get total number of tweets about covid  "
   ]
  },
  {
   "cell_type": "code",
   "execution_count": 8,
   "metadata": {},
   "outputs": [],
   "source": [
    "# Number of tweets per handle\n",
    "g_all = pd.DataFrame(df_all_sorted.groupby(\"handle\").size())\n",
    "g_all = g_all.rename({0: \"count_all\"}, axis=1)\n",
    "\n",
    "g_yes = pd.DataFrame(df_yes_sorted.groupby(\"handle\").size())\n",
    "g_yes = g_yes.rename({0: \"count_covid\"}, axis=1)\n",
    "\n",
    "# Merge dataframes\n",
    "count = g_all.join(g_yes, on=\"handle\").fillna(0)\n",
    "count[\"count_covid\"] = count[\"count_covid\"].astype(int) \n",
    "\n",
    "# Add columns\n",
    "count[\"count_not_covid\"] = count[\"count_all\"] - count[\"count_covid\"]\n",
    "count[\"proportion\"] = count[\"count_covid\"] / count[\"count_all\"]"
   ]
  },
  {
   "cell_type": "code",
   "execution_count": 9,
   "metadata": {
    "tags": []
   },
   "outputs": [
    {
     "data": {
      "text/html": [
       "<div>\n",
       "<style scoped>\n",
       "    .dataframe tbody tr th:only-of-type {\n",
       "        vertical-align: middle;\n",
       "    }\n",
       "\n",
       "    .dataframe tbody tr th {\n",
       "        vertical-align: top;\n",
       "    }\n",
       "\n",
       "    .dataframe thead th {\n",
       "        text-align: right;\n",
       "    }\n",
       "</style>\n",
       "<table border=\"1\" class=\"dataframe\">\n",
       "  <thead>\n",
       "    <tr style=\"text-align: right;\">\n",
       "      <th></th>\n",
       "      <th>count_all</th>\n",
       "      <th>count_covid</th>\n",
       "      <th>count_not_covid</th>\n",
       "      <th>proportion</th>\n",
       "    </tr>\n",
       "    <tr>\n",
       "      <th>handle</th>\n",
       "      <th></th>\n",
       "      <th></th>\n",
       "      <th></th>\n",
       "      <th></th>\n",
       "    </tr>\n",
       "  </thead>\n",
       "  <tbody>\n",
       "    <tr>\n",
       "      <th>@santeprevention</th>\n",
       "      <td>297</td>\n",
       "      <td>297</td>\n",
       "      <td>0</td>\n",
       "      <td>1.000000</td>\n",
       "    </tr>\n",
       "    <tr>\n",
       "      <th>@MinSoliSante</th>\n",
       "      <td>3060</td>\n",
       "      <td>3057</td>\n",
       "      <td>3</td>\n",
       "      <td>0.999020</td>\n",
       "    </tr>\n",
       "    <tr>\n",
       "      <th>@GUENGL</th>\n",
       "      <td>418</td>\n",
       "      <td>416</td>\n",
       "      <td>2</td>\n",
       "      <td>0.995215</td>\n",
       "    </tr>\n",
       "    <tr>\n",
       "      <th>@CVP_PDC</th>\n",
       "      <td>68</td>\n",
       "      <td>66</td>\n",
       "      <td>2</td>\n",
       "      <td>0.970588</td>\n",
       "    </tr>\n",
       "    <tr>\n",
       "      <th>@WHOSEARO</th>\n",
       "      <td>549</td>\n",
       "      <td>531</td>\n",
       "      <td>18</td>\n",
       "      <td>0.967213</td>\n",
       "    </tr>\n",
       "    <tr>\n",
       "      <th>...</th>\n",
       "      <td>...</td>\n",
       "      <td>...</td>\n",
       "      <td>...</td>\n",
       "      <td>...</td>\n",
       "    </tr>\n",
       "    <tr>\n",
       "      <th>@Left_EU</th>\n",
       "      <td>3532</td>\n",
       "      <td>336</td>\n",
       "      <td>3196</td>\n",
       "      <td>0.095130</td>\n",
       "    </tr>\n",
       "    <tr>\n",
       "      <th>@fedpolCH</th>\n",
       "      <td>341</td>\n",
       "      <td>27</td>\n",
       "      <td>314</td>\n",
       "      <td>0.079179</td>\n",
       "    </tr>\n",
       "    <tr>\n",
       "      <th>@Mitte_Centre</th>\n",
       "      <td>1134</td>\n",
       "      <td>80</td>\n",
       "      <td>1054</td>\n",
       "      <td>0.070547</td>\n",
       "    </tr>\n",
       "    <tr>\n",
       "      <th>@SantePubliqueFr</th>\n",
       "      <td>145</td>\n",
       "      <td>2</td>\n",
       "      <td>143</td>\n",
       "      <td>0.013793</td>\n",
       "    </tr>\n",
       "    <tr>\n",
       "      <th>@brexitparty_uk</th>\n",
       "      <td>1</td>\n",
       "      <td>0</td>\n",
       "      <td>1</td>\n",
       "      <td>0.000000</td>\n",
       "    </tr>\n",
       "  </tbody>\n",
       "</table>\n",
       "<p>71 rows × 4 columns</p>\n",
       "</div>"
      ],
      "text/plain": [
       "                  count_all  count_covid  count_not_covid  proportion\n",
       "handle                                                               \n",
       "@santeprevention        297          297                0    1.000000\n",
       "@MinSoliSante          3060         3057                3    0.999020\n",
       "@GUENGL                 418          416                2    0.995215\n",
       "@CVP_PDC                 68           66                2    0.970588\n",
       "@WHOSEARO               549          531               18    0.967213\n",
       "...                     ...          ...              ...         ...\n",
       "@Left_EU               3532          336             3196    0.095130\n",
       "@fedpolCH               341           27              314    0.079179\n",
       "@Mitte_Centre          1134           80             1054    0.070547\n",
       "@SantePubliqueFr        145            2              143    0.013793\n",
       "@brexitparty_uk           1            0                1    0.000000\n",
       "\n",
       "[71 rows x 4 columns]"
      ]
     },
     "execution_count": 9,
     "metadata": {},
     "output_type": "execute_result"
    }
   ],
   "source": [
    "count.sort_values(\"proportion\", ascending=False)"
   ]
  },
  {
   "cell_type": "code",
   "execution_count": 10,
   "metadata": {
    "tags": []
   },
   "outputs": [],
   "source": [
    "# to excel \n",
    "count.to_excel(\"src/resources/data/2_count_actors.xlsx\", index=False)"
   ]
  },
  {
   "cell_type": "markdown",
   "metadata": {},
   "source": [
    "## 2. Weekly total count\n",
    "In the period of interest, for each week, for each actor,  \n",
    "      get total number of tweets  \n",
    "      get total number of tweets about covid  "
   ]
  },
  {
   "cell_type": "code",
   "execution_count": 11,
   "metadata": {},
   "outputs": [],
   "source": [
    "# Extract year and week\n",
    "df_all_sorted[\"year\"] = df_all_sorted[\"date\"].dt.year\n",
    "df_all_sorted[\"week\"] = df_all_sorted[\"date\"].dt.isocalendar().week\n",
    "df_yes_sorted[\"year\"] = df_yes_sorted[\"date\"].dt.year\n",
    "df_yes_sorted[\"week\"] = df_yes_sorted[\"date\"].dt.isocalendar().week"
   ]
  },
  {
   "cell_type": "code",
   "execution_count": 14,
   "metadata": {},
   "outputs": [
    {
     "data": {
      "text/html": [
       "<div>\n",
       "<style scoped>\n",
       "    .dataframe tbody tr th:only-of-type {\n",
       "        vertical-align: middle;\n",
       "    }\n",
       "\n",
       "    .dataframe tbody tr th {\n",
       "        vertical-align: top;\n",
       "    }\n",
       "\n",
       "    .dataframe thead th {\n",
       "        text-align: right;\n",
       "    }\n",
       "</style>\n",
       "<table border=\"1\" class=\"dataframe\">\n",
       "  <thead>\n",
       "    <tr style=\"text-align: right;\">\n",
       "      <th></th>\n",
       "      <th></th>\n",
       "      <th></th>\n",
       "      <th>count_all</th>\n",
       "      <th>count_covid</th>\n",
       "      <th>count_not_covid</th>\n",
       "    </tr>\n",
       "    <tr>\n",
       "      <th>handle</th>\n",
       "      <th>year</th>\n",
       "      <th>week</th>\n",
       "      <th></th>\n",
       "      <th></th>\n",
       "      <th></th>\n",
       "    </tr>\n",
       "  </thead>\n",
       "  <tbody>\n",
       "    <tr>\n",
       "      <th rowspan=\"5\" valign=\"top\">@10DowningStreet</th>\n",
       "      <th rowspan=\"5\" valign=\"top\">2020</th>\n",
       "      <th>1</th>\n",
       "      <td>1</td>\n",
       "      <td>0</td>\n",
       "      <td>1</td>\n",
       "    </tr>\n",
       "    <tr>\n",
       "      <th>2</th>\n",
       "      <td>9</td>\n",
       "      <td>0</td>\n",
       "      <td>9</td>\n",
       "    </tr>\n",
       "    <tr>\n",
       "      <th>3</th>\n",
       "      <td>17</td>\n",
       "      <td>0</td>\n",
       "      <td>17</td>\n",
       "    </tr>\n",
       "    <tr>\n",
       "      <th>4</th>\n",
       "      <td>24</td>\n",
       "      <td>0</td>\n",
       "      <td>24</td>\n",
       "    </tr>\n",
       "    <tr>\n",
       "      <th>5</th>\n",
       "      <td>28</td>\n",
       "      <td>0</td>\n",
       "      <td>28</td>\n",
       "    </tr>\n",
       "    <tr>\n",
       "      <th>...</th>\n",
       "      <th>...</th>\n",
       "      <th>...</th>\n",
       "      <td>...</td>\n",
       "      <td>...</td>\n",
       "      <td>...</td>\n",
       "    </tr>\n",
       "    <tr>\n",
       "      <th rowspan=\"5\" valign=\"top\">@vonderleyen</th>\n",
       "      <th rowspan=\"5\" valign=\"top\">2021</th>\n",
       "      <th>10</th>\n",
       "      <td>16</td>\n",
       "      <td>6</td>\n",
       "      <td>10</td>\n",
       "    </tr>\n",
       "    <tr>\n",
       "      <th>11</th>\n",
       "      <td>30</td>\n",
       "      <td>12</td>\n",
       "      <td>18</td>\n",
       "    </tr>\n",
       "    <tr>\n",
       "      <th>12</th>\n",
       "      <td>35</td>\n",
       "      <td>17</td>\n",
       "      <td>18</td>\n",
       "    </tr>\n",
       "    <tr>\n",
       "      <th>13</th>\n",
       "      <td>18</td>\n",
       "      <td>6</td>\n",
       "      <td>12</td>\n",
       "    </tr>\n",
       "    <tr>\n",
       "      <th>53</th>\n",
       "      <td>11</td>\n",
       "      <td>6</td>\n",
       "      <td>5</td>\n",
       "    </tr>\n",
       "  </tbody>\n",
       "</table>\n",
       "<p>4371 rows × 3 columns</p>\n",
       "</div>"
      ],
      "text/plain": [
       "                            count_all  count_covid  count_not_covid\n",
       "handle           year week                                         \n",
       "@10DowningStreet 2020 1             1            0                1\n",
       "                      2             9            0                9\n",
       "                      3            17            0               17\n",
       "                      4            24            0               24\n",
       "                      5            28            0               28\n",
       "...                               ...          ...              ...\n",
       "@vonderleyen     2021 10           16            6               10\n",
       "                      11           30           12               18\n",
       "                      12           35           17               18\n",
       "                      13           18            6               12\n",
       "                      53           11            6                5\n",
       "\n",
       "[4371 rows x 3 columns]"
      ]
     },
     "execution_count": 14,
     "metadata": {},
     "output_type": "execute_result"
    }
   ],
   "source": [
    "# Get tweets counts per handle per year per week\n",
    "g_all = pd.DataFrame(df_all_sorted.groupby([\"handle\", \"year\", \"week\"]).size())\n",
    "g_all = g_all.rename({0: \"count_all\"}, axis=1)\n",
    "\n",
    "g_yes = pd.DataFrame(df_yes_sorted.groupby([\"handle\", \"year\", \"week\"]).size())\n",
    "g_yes = g_yes.rename({0: \"count_covid\"}, axis=1)\n",
    "\n",
    "# Merge dataframes\n",
    "weekly_count = g_all.join(g_yes, on=[\"handle\", \"year\", \"week\"]).fillna(0)\n",
    "\n",
    "# Add columns\n",
    "weekly_count[\"count_covid\"] = weekly_count[\"count_covid\"].astype(int)\n",
    "weekly_count[\"count_not_covid\"] = weekly_count[\"count_all\"] - weekly_count[\"count_covid\"]\n",
    "weekly_count"
   ]
  },
  {
   "cell_type": "code",
   "execution_count": 13,
   "metadata": {},
   "outputs": [],
   "source": [
    "# To excel\n",
    "count.to_excel(\"src/resources/data/2_weekly_count_actors.xlsx\", index=False)"
   ]
  }
 ],
 "metadata": {
  "interpreter": {
   "hash": "607ef8f85d38ab7d98d9598c26f0a0f70958ff3fe818996b9742fe1433b73592"
  },
  "kernelspec": {
   "display_name": "Python 3 (ipykernel)",
   "language": "python",
   "name": "python3"
  },
  "language_info": {
   "codemirror_mode": {
    "name": "ipython",
    "version": 3
   },
   "file_extension": ".py",
   "mimetype": "text/x-python",
   "name": "python",
   "nbconvert_exporter": "python",
   "pygments_lexer": "ipython3",
   "version": "3.9.5"
  }
 },
 "nbformat": 4,
 "nbformat_minor": 4
}
