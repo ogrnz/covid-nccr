{
 "cells": [
  {
   "cell_type": "code",
   "execution_count": 1,
   "metadata": {},
   "outputs": [],
   "source": [
    "\"\"\"\n",
    "Extract mentions from tweets and reshape into long format instead of wide\n",
    "\"\"\"\n",
    "\n",
    "import sys, os\n",
    "\n",
    "sys.path.append(os.path.abspath(os.path.join(\"..\", \"src\")))\n",
    "\n",
    "%load_ext autoreload\n",
    "%autoreload 2\n",
    "import re\n",
    "import time\n",
    "\n",
    "import pandas as pd\n",
    "import numpy as np\n",
    "from tqdm import tqdm\n",
    "\n",
    "tqdm.pandas()\n",
    "\n",
    "from common.database import Database\n",
    "from common.app import App\n",
    "from common.helpers import Helpers\n",
    "\n",
    "app_run = App(debug=True)\n",
    "db = Database(\"tweets.db\", app=app_run)"
   ]
  },
  {
   "cell_type": "code",
   "execution_count": 2,
   "metadata": {},
   "outputs": [
    {
     "name": "stdout",
     "output_type": "stream",
     "text": [
      "238523\n"
     ]
    }
   ],
   "source": [
    "with db:\n",
    "    tws = db.get_all_tweets()\n",
    "print(len(tws))\n",
    "df_all = Helpers.df_from_db(tws)"
   ]
  },
  {
   "cell_type": "code",
   "execution_count": 4,
   "metadata": {},
   "outputs": [
    {
     "name": "stdout",
     "output_type": "stream",
     "text": [
      "len(df_all_sorted)=185749\n"
     ]
    }
   ],
   "source": [
    "# Convert date\n",
    "df_all[\"date\"] = df_all[\"created_at\"].apply(Helpers.convert_date)\n",
    "df_all[\"date\"] = pd.to_datetime(df_all[\"date\"], format=\"%d/%m/%Y\")\n",
    "\n",
    "# Sort df\n",
    "df_all_sorted = Helpers.sort_timerange(df_all)\n",
    "print(f\"{len(df_all_sorted)=}\") "
   ]
  },
  {
   "cell_type": "code",
   "execution_count": 5,
   "metadata": {},
   "outputs": [],
   "source": [
    "def extract_mentions(txt):\n",
    "    \"\"\"\n",
    "    Extract the twitter mentions of a string\n",
    "\n",
    "    Returns the number of unqiue mentions and the unique mentions\n",
    "    \"\"\"\n",
    "\n",
    "    if not txt:\n",
    "        return\n",
    "\n",
    "    r1 = r\"@[A-Za-z0-9_-]*\"\n",
    "    mentions = set(re.findall(r1, txt))\n",
    "    \n",
    "    return len(mentions), mentions"
   ]
  },
  {
   "cell_type": "code",
   "execution_count": 6,
   "metadata": {},
   "outputs": [
    {
     "data": {
      "text/plain": [
       "(6,\n",
       " {'@3t6___adsasd', '@manue123', '@olive', '@opotrac', '@potrac', '@wil-bail'})"
      ]
     },
     "execution_count": 6,
     "metadata": {},
     "output_type": "execute_result"
    }
   ],
   "source": [
    "# Testing\n",
    "txt = \"@manue123 ahahh @olive test @opotrac shouldnot be @potrac counted @potrac @3t6___adsasd @wil-bail\"\n",
    "extract_mentions(txt)"
   ]
  },
  {
   "cell_type": "code",
   "execution_count": 7,
   "metadata": {},
   "outputs": [
    {
     "data": {
      "text/plain": [
       "26.0"
      ]
     },
     "execution_count": 7,
     "metadata": {},
     "output_type": "execute_result"
    }
   ],
   "source": [
    "# Get maximum number of mentions to know how many columns needed\n",
    "max_old = df_all_sorted[\"old_text\"].str.count(r\"@\\w+\").max()  # 22\n",
    "max_txt = df_all_sorted[\"text\"].str.count(r\"@\\w+\").max()  # 26\n",
    "max(max_old, max_txt)"
   ]
  },
  {
   "cell_type": "code",
   "execution_count": 8,
   "metadata": {},
   "outputs": [],
   "source": [
    "# Create the new columns\n",
    "df = df_all_sorted.assign(**{f\"target_{i:02}\": np.nan for i in range(1, 27)})"
   ]
  },
  {
   "cell_type": "code",
   "execution_count": 9,
   "metadata": {},
   "outputs": [],
   "source": [
    "def insert_mentions(row):\n",
    "    old = row[\"old_text\"] if row[\"old_text\"] is not None else \" \"\n",
    "    cur = row[\"text\"] if row[\"text\"] is not None else \" \"\n",
    "    handle = row[\"handle\"]\n",
    "\n",
    "    txt = old + \" \" + cur\n",
    "    _, mentions = extract_mentions(txt)\n",
    "\n",
    "    if handle in mentions:\n",
    "        mentions.remove(handle)\n",
    "\n",
    "    for i, m in enumerate(mentions, start=1):\n",
    "        row.loc[f\"target_{i:02}\"] = m\n",
    "    return row"
   ]
  },
  {
   "cell_type": "code",
   "execution_count": 10,
   "metadata": {},
   "outputs": [
    {
     "name": "stderr",
     "output_type": "stream",
     "text": [
      "100%|████████████████████████████████████| 185749/185749 [00:53<00:00, 3487.71it/s]\n"
     ]
    }
   ],
   "source": [
    "df = df.progress_apply(insert_mentions, axis=1)"
   ]
  },
  {
   "cell_type": "code",
   "execution_count": 11,
   "metadata": {},
   "outputs": [
    {
     "data": {
      "text/html": [
       "<div>\n",
       "<style scoped>\n",
       "    .dataframe tbody tr th:only-of-type {\n",
       "        vertical-align: middle;\n",
       "    }\n",
       "\n",
       "    .dataframe tbody tr th {\n",
       "        vertical-align: top;\n",
       "    }\n",
       "\n",
       "    .dataframe thead th {\n",
       "        text-align: right;\n",
       "    }\n",
       "</style>\n",
       "<table border=\"1\" class=\"dataframe\">\n",
       "  <thead>\n",
       "    <tr style=\"text-align: right;\">\n",
       "      <th></th>\n",
       "      <th>target_01</th>\n",
       "      <th>target_02</th>\n",
       "      <th>target_03</th>\n",
       "      <th>target_04</th>\n",
       "      <th>target_05</th>\n",
       "      <th>target_06</th>\n",
       "      <th>target_07</th>\n",
       "      <th>target_08</th>\n",
       "      <th>target_09</th>\n",
       "      <th>target_10</th>\n",
       "      <th>...</th>\n",
       "      <th>target_18</th>\n",
       "      <th>target_19</th>\n",
       "      <th>target_20</th>\n",
       "      <th>target_21</th>\n",
       "      <th>target_22</th>\n",
       "      <th>target_23</th>\n",
       "      <th>target_24</th>\n",
       "      <th>target_25</th>\n",
       "      <th>target_26</th>\n",
       "      <th>target_27</th>\n",
       "    </tr>\n",
       "  </thead>\n",
       "  <tbody>\n",
       "    <tr>\n",
       "      <th>113068</th>\n",
       "      <td>@NAM_ChairAZ</td>\n",
       "      <td>@DrTedros</td>\n",
       "      <td>NaN</td>\n",
       "      <td>NaN</td>\n",
       "      <td>NaN</td>\n",
       "      <td>NaN</td>\n",
       "      <td>NaN</td>\n",
       "      <td>NaN</td>\n",
       "      <td>NaN</td>\n",
       "      <td>NaN</td>\n",
       "      <td>...</td>\n",
       "      <td>NaN</td>\n",
       "      <td>NaN</td>\n",
       "      <td>NaN</td>\n",
       "      <td>NaN</td>\n",
       "      <td>NaN</td>\n",
       "      <td>NaN</td>\n",
       "      <td>NaN</td>\n",
       "      <td>NaN</td>\n",
       "      <td>NaN</td>\n",
       "      <td>NaN</td>\n",
       "    </tr>\n",
       "    <tr>\n",
       "      <th>51765</th>\n",
       "      <td>@JosepBorrellF</td>\n",
       "      <td>@AymanHsafadi</td>\n",
       "      <td>@AranchaGlezLaya</td>\n",
       "      <td>@UfmSecretariat</td>\n",
       "      <td>NaN</td>\n",
       "      <td>NaN</td>\n",
       "      <td>NaN</td>\n",
       "      <td>NaN</td>\n",
       "      <td>NaN</td>\n",
       "      <td>NaN</td>\n",
       "      <td>...</td>\n",
       "      <td>NaN</td>\n",
       "      <td>NaN</td>\n",
       "      <td>NaN</td>\n",
       "      <td>NaN</td>\n",
       "      <td>NaN</td>\n",
       "      <td>NaN</td>\n",
       "      <td>NaN</td>\n",
       "      <td>NaN</td>\n",
       "      <td>NaN</td>\n",
       "      <td>NaN</td>\n",
       "    </tr>\n",
       "    <tr>\n",
       "      <th>33345</th>\n",
       "      <td>NaN</td>\n",
       "      <td>NaN</td>\n",
       "      <td>NaN</td>\n",
       "      <td>NaN</td>\n",
       "      <td>NaN</td>\n",
       "      <td>NaN</td>\n",
       "      <td>NaN</td>\n",
       "      <td>NaN</td>\n",
       "      <td>NaN</td>\n",
       "      <td>NaN</td>\n",
       "      <td>...</td>\n",
       "      <td>NaN</td>\n",
       "      <td>NaN</td>\n",
       "      <td>NaN</td>\n",
       "      <td>NaN</td>\n",
       "      <td>NaN</td>\n",
       "      <td>NaN</td>\n",
       "      <td>NaN</td>\n",
       "      <td>NaN</td>\n",
       "      <td>NaN</td>\n",
       "      <td>NaN</td>\n",
       "    </tr>\n",
       "    <tr>\n",
       "      <th>598</th>\n",
       "      <td>@PSSuisse</td>\n",
       "      <td>NaN</td>\n",
       "      <td>NaN</td>\n",
       "      <td>NaN</td>\n",
       "      <td>NaN</td>\n",
       "      <td>NaN</td>\n",
       "      <td>NaN</td>\n",
       "      <td>NaN</td>\n",
       "      <td>NaN</td>\n",
       "      <td>NaN</td>\n",
       "      <td>...</td>\n",
       "      <td>NaN</td>\n",
       "      <td>NaN</td>\n",
       "      <td>NaN</td>\n",
       "      <td>NaN</td>\n",
       "      <td>NaN</td>\n",
       "      <td>NaN</td>\n",
       "      <td>NaN</td>\n",
       "      <td>NaN</td>\n",
       "      <td>NaN</td>\n",
       "      <td>NaN</td>\n",
       "    </tr>\n",
       "    <tr>\n",
       "      <th>16630</th>\n",
       "      <td>@EASO</td>\n",
       "      <td>@NinaGregoriEASO</td>\n",
       "      <td>@ICMPD</td>\n",
       "      <td>NaN</td>\n",
       "      <td>NaN</td>\n",
       "      <td>NaN</td>\n",
       "      <td>NaN</td>\n",
       "      <td>NaN</td>\n",
       "      <td>NaN</td>\n",
       "      <td>NaN</td>\n",
       "      <td>...</td>\n",
       "      <td>NaN</td>\n",
       "      <td>NaN</td>\n",
       "      <td>NaN</td>\n",
       "      <td>NaN</td>\n",
       "      <td>NaN</td>\n",
       "      <td>NaN</td>\n",
       "      <td>NaN</td>\n",
       "      <td>NaN</td>\n",
       "      <td>NaN</td>\n",
       "      <td>NaN</td>\n",
       "    </tr>\n",
       "  </tbody>\n",
       "</table>\n",
       "<p>5 rows × 27 columns</p>\n",
       "</div>"
      ],
      "text/plain": [
       "             target_01         target_02         target_03        target_04  \\\n",
       "113068    @NAM_ChairAZ         @DrTedros               NaN              NaN   \n",
       "51765   @JosepBorrellF     @AymanHsafadi  @AranchaGlezLaya  @UfmSecretariat   \n",
       "33345              NaN               NaN               NaN              NaN   \n",
       "598          @PSSuisse               NaN               NaN              NaN   \n",
       "16630            @EASO  @NinaGregoriEASO            @ICMPD              NaN   \n",
       "\n",
       "       target_05 target_06 target_07 target_08 target_09 target_10  ...  \\\n",
       "113068       NaN       NaN       NaN       NaN       NaN       NaN  ...   \n",
       "51765        NaN       NaN       NaN       NaN       NaN       NaN  ...   \n",
       "33345        NaN       NaN       NaN       NaN       NaN       NaN  ...   \n",
       "598          NaN       NaN       NaN       NaN       NaN       NaN  ...   \n",
       "16630        NaN       NaN       NaN       NaN       NaN       NaN  ...   \n",
       "\n",
       "       target_18 target_19 target_20 target_21 target_22 target_23 target_24  \\\n",
       "113068       NaN       NaN       NaN       NaN       NaN       NaN       NaN   \n",
       "51765        NaN       NaN       NaN       NaN       NaN       NaN       NaN   \n",
       "33345        NaN       NaN       NaN       NaN       NaN       NaN       NaN   \n",
       "598          NaN       NaN       NaN       NaN       NaN       NaN       NaN   \n",
       "16630        NaN       NaN       NaN       NaN       NaN       NaN       NaN   \n",
       "\n",
       "       target_25 target_26 target_27  \n",
       "113068       NaN       NaN       NaN  \n",
       "51765        NaN       NaN       NaN  \n",
       "33345        NaN       NaN       NaN  \n",
       "598          NaN       NaN       NaN  \n",
       "16630        NaN       NaN       NaN  \n",
       "\n",
       "[5 rows x 27 columns]"
      ]
     },
     "execution_count": 11,
     "metadata": {},
     "output_type": "execute_result"
    }
   ],
   "source": [
    "df.sample(5).loc[:, \"target_01\":\"target_27\"]"
   ]
  },
  {
   "cell_type": "code",
   "execution_count": 12,
   "metadata": {},
   "outputs": [
    {
     "data": {
      "text/plain": [
       "target_01    130809\n",
       "target_02     49475\n",
       "target_03     19598\n",
       "target_04      8750\n",
       "target_05      4559\n",
       "target_06      2724\n",
       "target_07      1683\n",
       "target_08      1038\n",
       "target_09       673\n",
       "target_10       459\n",
       "target_11       286\n",
       "target_12       174\n",
       "target_13        91\n",
       "target_14        69\n",
       "target_15        32\n",
       "target_16        23\n",
       "target_17        13\n",
       "target_18        12\n",
       "target_19        11\n",
       "target_20         8\n",
       "target_21         6\n",
       "target_22         4\n",
       "target_23         3\n",
       "target_24         2\n",
       "target_25         2\n",
       "target_26         2\n",
       "target_27         1\n",
       "dtype: int64"
      ]
     },
     "execution_count": 12,
     "metadata": {},
     "output_type": "execute_result"
    }
   ],
   "source": [
    "df.loc[:, \"target_01\":\"target_27\"].count()"
   ]
  },
  {
   "cell_type": "code",
   "execution_count": 14,
   "metadata": {},
   "outputs": [],
   "source": [
    "# Intermediary step, export to pickle\n",
    "df.to_pickle(\"interactive/data/pkl/df_mentions_extracted.pkl\")"
   ]
  },
  {
   "cell_type": "code",
   "execution_count": null,
   "metadata": {},
   "outputs": [],
   "source": [
    "# If needed, load pickle\n",
    "#df = pd.read_pickle(\"interactive/data/pkl/df_mentions_extracted.pkl\")"
   ]
  },
  {
   "cell_type": "code",
   "execution_count": 15,
   "metadata": {},
   "outputs": [],
   "source": [
    "long_df = pd.wide_to_long(df, \"target\", i=\"tweet_id\", j=\"target_id\", sep=\"_\").dropna(subset=[\"target\"])"
   ]
  },
  {
   "cell_type": "code",
   "execution_count": 17,
   "metadata": {},
   "outputs": [
    {
     "data": {
      "text/html": [
       "<div>\n",
       "<style scoped>\n",
       "    .dataframe tbody tr th:only-of-type {\n",
       "        vertical-align: middle;\n",
       "    }\n",
       "\n",
       "    .dataframe tbody tr th {\n",
       "        vertical-align: top;\n",
       "    }\n",
       "\n",
       "    .dataframe thead th {\n",
       "        text-align: right;\n",
       "    }\n",
       "</style>\n",
       "<table border=\"1\" class=\"dataframe\">\n",
       "  <thead>\n",
       "    <tr style=\"text-align: right;\">\n",
       "      <th></th>\n",
       "      <th></th>\n",
       "      <th>favorites</th>\n",
       "      <th>old_text</th>\n",
       "      <th>position</th>\n",
       "      <th>retweets</th>\n",
       "      <th>handle</th>\n",
       "      <th>topic</th>\n",
       "      <th>date</th>\n",
       "      <th>type</th>\n",
       "      <th>covid_theme</th>\n",
       "      <th>frame</th>\n",
       "      <th>name</th>\n",
       "      <th>subcat</th>\n",
       "      <th>text</th>\n",
       "      <th>theme_hardcoded</th>\n",
       "      <th>url</th>\n",
       "      <th>created_at</th>\n",
       "      <th>target</th>\n",
       "    </tr>\n",
       "    <tr>\n",
       "      <th>tweet_id</th>\n",
       "      <th>target_id</th>\n",
       "      <th></th>\n",
       "      <th></th>\n",
       "      <th></th>\n",
       "      <th></th>\n",
       "      <th></th>\n",
       "      <th></th>\n",
       "      <th></th>\n",
       "      <th></th>\n",
       "      <th></th>\n",
       "      <th></th>\n",
       "      <th></th>\n",
       "      <th></th>\n",
       "      <th></th>\n",
       "      <th></th>\n",
       "      <th></th>\n",
       "      <th></th>\n",
       "      <th></th>\n",
       "    </tr>\n",
       "  </thead>\n",
       "  <tbody>\n",
       "    <tr>\n",
       "      <th>1255032256747446272</th>\n",
       "      <th>1</th>\n",
       "      <td>0.0</td>\n",
       "      <td>RT @migrpolcentre: 'The effects of #COVID19 on...</td>\n",
       "      <td>NaN</td>\n",
       "      <td>33.0</td>\n",
       "      <td>@EUHomeAffairs</td>\n",
       "      <td>605.0</td>\n",
       "      <td>2020-04-28</td>\n",
       "      <td>Retweet</td>\n",
       "      <td>1</td>\n",
       "      <td>NaN</td>\n",
       "      <td>EUHomeAffairs</td>\n",
       "      <td>NaN</td>\n",
       "      <td>'The effects of #COVID19 on #Mobility and #Cit...</td>\n",
       "      <td>None</td>\n",
       "      <td>https://twitter.com/EUHomeAffairs/status/12550...</td>\n",
       "      <td>28/04/2020 07:13:02</td>\n",
       "      <td>@migrpolcentre</td>\n",
       "    </tr>\n",
       "    <tr>\n",
       "      <th>1251500469312278535</th>\n",
       "      <th>3</th>\n",
       "      <td>NaN</td>\n",
       "      <td>RT @DrTedros: Looking forward to the One World...</td>\n",
       "      <td>NaN</td>\n",
       "      <td>NaN</td>\n",
       "      <td>@WHO</td>\n",
       "      <td>605.0</td>\n",
       "      <td>2020-04-18</td>\n",
       "      <td>Retweet</td>\n",
       "      <td>1</td>\n",
       "      <td>NaN</td>\n",
       "      <td>World Health Organization (WHO)</td>\n",
       "      <td>NaN</td>\n",
       "      <td>RT @DrTedros: Looking forward to the One World...</td>\n",
       "      <td>None</td>\n",
       "      <td>https://twitter.com/WHO/status/125150046931227...</td>\n",
       "      <td>18/04/2020 13:18:58</td>\n",
       "      <td>@StephenAtHome</td>\n",
       "    </tr>\n",
       "    <tr>\n",
       "      <th>1214136809556455425</th>\n",
       "      <th>1</th>\n",
       "      <td>822.0</td>\n",
       "      <td>None</td>\n",
       "      <td>NaN</td>\n",
       "      <td>119.0</td>\n",
       "      <td>@Conservatives</td>\n",
       "      <td>NaN</td>\n",
       "      <td>2020-01-06</td>\n",
       "      <td>New</td>\n",
       "      <td>0</td>\n",
       "      <td>NaN</td>\n",
       "      <td>Conservatives</td>\n",
       "      <td>NaN</td>\n",
       "      <td>January 6th: 🙋‍♀️🔵🇬🇧\\n\\nIntroducing @Miriam_Ca...</td>\n",
       "      <td>None</td>\n",
       "      <td>https://twitter.com/Conservatives/status/12141...</td>\n",
       "      <td>06/01/2020 10:49:07</td>\n",
       "      <td>@Miriam_Cates</td>\n",
       "    </tr>\n",
       "    <tr>\n",
       "      <th>1314206955750137857</th>\n",
       "      <th>2</th>\n",
       "      <td>0.0</td>\n",
       "      <td>RT @BCWBrussels: Ranking 13th place in the #In...</td>\n",
       "      <td>NaN</td>\n",
       "      <td>1.0</td>\n",
       "      <td>@GreensEFA</td>\n",
       "      <td>NaN</td>\n",
       "      <td>2020-10-08</td>\n",
       "      <td>Retweet</td>\n",
       "      <td>0</td>\n",
       "      <td>NaN</td>\n",
       "      <td>Greens/EFA in the EU Parliament 🌍</td>\n",
       "      <td>NaN</td>\n",
       "      <td>Ranking 13th place in the #InfluenceIndex...\\n...</td>\n",
       "      <td>None</td>\n",
       "      <td>https://twitter.com/GreensEFA/status/131420695...</td>\n",
       "      <td>08/10/2020 14:12:09</td>\n",
       "      <td>@BCWBrussels</td>\n",
       "    </tr>\n",
       "    <tr>\n",
       "      <th>1272244325787852802</th>\n",
       "      <th>1</th>\n",
       "      <td>0.0</td>\n",
       "      <td>RT @sarahelhairy: « La #République n’effacera ...</td>\n",
       "      <td>NaN</td>\n",
       "      <td>35.0</td>\n",
       "      <td>@MoDem</td>\n",
       "      <td>NaN</td>\n",
       "      <td>2020-06-14</td>\n",
       "      <td>Retweet</td>\n",
       "      <td>0</td>\n",
       "      <td>NaN</td>\n",
       "      <td>MoDem</td>\n",
       "      <td>NaN</td>\n",
       "      <td>« La #République n’effacera aucune trace, ni a...</td>\n",
       "      <td>0</td>\n",
       "      <td>https://twitter.com/MoDem/status/1272244325787...</td>\n",
       "      <td>14/06/2020 19:07:39</td>\n",
       "      <td>@sarahelhairy</td>\n",
       "    </tr>\n",
       "  </tbody>\n",
       "</table>\n",
       "</div>"
      ],
      "text/plain": [
       "                               favorites  \\\n",
       "tweet_id            target_id              \n",
       "1255032256747446272 1                0.0   \n",
       "1251500469312278535 3                NaN   \n",
       "1214136809556455425 1              822.0   \n",
       "1314206955750137857 2                0.0   \n",
       "1272244325787852802 1                0.0   \n",
       "\n",
       "                                                                        old_text  \\\n",
       "tweet_id            target_id                                                      \n",
       "1255032256747446272 1          RT @migrpolcentre: 'The effects of #COVID19 on...   \n",
       "1251500469312278535 3          RT @DrTedros: Looking forward to the One World...   \n",
       "1214136809556455425 1                                                       None   \n",
       "1314206955750137857 2          RT @BCWBrussels: Ranking 13th place in the #In...   \n",
       "1272244325787852802 1          RT @sarahelhairy: « La #République n’effacera ...   \n",
       "\n",
       "                               position  retweets          handle  topic  \\\n",
       "tweet_id            target_id                                              \n",
       "1255032256747446272 1               NaN      33.0  @EUHomeAffairs  605.0   \n",
       "1251500469312278535 3               NaN       NaN            @WHO  605.0   \n",
       "1214136809556455425 1               NaN     119.0  @Conservatives    NaN   \n",
       "1314206955750137857 2               NaN       1.0      @GreensEFA    NaN   \n",
       "1272244325787852802 1               NaN      35.0          @MoDem    NaN   \n",
       "\n",
       "                                    date     type  covid_theme  frame  \\\n",
       "tweet_id            target_id                                           \n",
       "1255032256747446272 1         2020-04-28  Retweet            1    NaN   \n",
       "1251500469312278535 3         2020-04-18  Retweet            1    NaN   \n",
       "1214136809556455425 1         2020-01-06      New            0    NaN   \n",
       "1314206955750137857 2         2020-10-08  Retweet            0    NaN   \n",
       "1272244325787852802 1         2020-06-14  Retweet            0    NaN   \n",
       "\n",
       "                                                            name  subcat  \\\n",
       "tweet_id            target_id                                              \n",
       "1255032256747446272 1                              EUHomeAffairs     NaN   \n",
       "1251500469312278535 3            World Health Organization (WHO)     NaN   \n",
       "1214136809556455425 1                              Conservatives     NaN   \n",
       "1314206955750137857 2          Greens/EFA in the EU Parliament 🌍     NaN   \n",
       "1272244325787852802 1                                      MoDem     NaN   \n",
       "\n",
       "                                                                            text  \\\n",
       "tweet_id            target_id                                                      \n",
       "1255032256747446272 1          'The effects of #COVID19 on #Mobility and #Cit...   \n",
       "1251500469312278535 3          RT @DrTedros: Looking forward to the One World...   \n",
       "1214136809556455425 1          January 6th: 🙋‍♀️🔵🇬🇧\\n\\nIntroducing @Miriam_Ca...   \n",
       "1314206955750137857 2          Ranking 13th place in the #InfluenceIndex...\\n...   \n",
       "1272244325787852802 1          « La #République n’effacera aucune trace, ni a...   \n",
       "\n",
       "                              theme_hardcoded  \\\n",
       "tweet_id            target_id                   \n",
       "1255032256747446272 1                    None   \n",
       "1251500469312278535 3                    None   \n",
       "1214136809556455425 1                    None   \n",
       "1314206955750137857 2                    None   \n",
       "1272244325787852802 1                       0   \n",
       "\n",
       "                                                                             url  \\\n",
       "tweet_id            target_id                                                      \n",
       "1255032256747446272 1          https://twitter.com/EUHomeAffairs/status/12550...   \n",
       "1251500469312278535 3          https://twitter.com/WHO/status/125150046931227...   \n",
       "1214136809556455425 1          https://twitter.com/Conservatives/status/12141...   \n",
       "1314206955750137857 2          https://twitter.com/GreensEFA/status/131420695...   \n",
       "1272244325787852802 1          https://twitter.com/MoDem/status/1272244325787...   \n",
       "\n",
       "                                        created_at          target  \n",
       "tweet_id            target_id                                       \n",
       "1255032256747446272 1          28/04/2020 07:13:02  @migrpolcentre  \n",
       "1251500469312278535 3          18/04/2020 13:18:58  @StephenAtHome  \n",
       "1214136809556455425 1          06/01/2020 10:49:07   @Miriam_Cates  \n",
       "1314206955750137857 2          08/10/2020 14:12:09    @BCWBrussels  \n",
       "1272244325787852802 1          14/06/2020 19:07:39   @sarahelhairy  "
      ]
     },
     "execution_count": 17,
     "metadata": {},
     "output_type": "execute_result"
    }
   ],
   "source": [
    "long_df.sample(5)"
   ]
  },
  {
   "cell_type": "code",
   "execution_count": 45,
   "metadata": {},
   "outputs": [],
   "source": [
    "# Export to pickle\n",
    "long_df.to_pickle(\"interactive/data/pkl/long_df.pkl\")"
   ]
  },
  {
   "cell_type": "code",
   "execution_count": 6,
   "metadata": {},
   "outputs": [],
   "source": [
    "# Load from pickle if necessary\n",
    "long_df = pd.read_pickle(\"interactive/data/pkl/long_df.pkl\")"
   ]
  },
  {
   "cell_type": "code",
   "execution_count": 22,
   "metadata": {},
   "outputs": [
    {
     "data": {
      "text/plain": [
       "'\\nCategorization of tweets\\n\\ntweets about covid: \\n    (topic in topics_cov)  -> 1.1\\n    OR {(covid_theme == 1) \\n        BUT NOT IF ((topic in topics_not_cov) OR (theme_hardcoded == 0))}  -> 1.2 \\n    OR ((topic is None) AND (covid_theme == 1) AND (theme_hardcoded is None))  -> 1.3\\n\\ntweets not about covid:\\n    (topic == 608)  -> 2.1\\n    OR ((theme_hardcoded == 0) BUT NOT IF (topic in topics_cov)) -> 2.2\\n    OR ((covid_theme == 0) \\n        BUT NOT IF (topic in topics_cov))  -> 2.3\\n\\nExplanation.\\n1.1 Simple coded tweets\\n1.2 Tweets automatically classified as being about covid (covid_theme=1). From those, do not consider the ones coded as 608 or manually excluded (theme_hardcoded=0)\\n1.3 Tweets about covid that are still not coded\\n\\n2.1 Tweets coded as 608\\n2.2 Tweets manually excluded. From those, do not consider the ones with topic different from 608\\n2.3 Tweets automatically classified as being not about covid (covid_theme=0). From those, do not consider tweets that have been coded\\n'"
      ]
     },
     "execution_count": 22,
     "metadata": {},
     "output_type": "execute_result"
    }
   ],
   "source": [
    "\"\"\"\n",
    "Categorization of tweets\n",
    "See common/helpers.py\n",
    "\n",
    "tweets about covid: \n",
    "    (topic in topics_cov)  -> 1.1\n",
    "    OR {(covid_theme == 1) \n",
    "        BUT NOT IF ((topic in topics_not_cov) OR (theme_hardcoded == 0))}  -> 1.2 \n",
    "    OR ((topic is None) AND (covid_theme == 1) AND (theme_hardcoded is None))  -> 1.3\n",
    "\n",
    "tweets not about covid:\n",
    "    (topic == 608)  -> 2.1\n",
    "    OR ((theme_hardcoded == 0) BUT NOT IF (topic in topics_cov)) -> 2.2\n",
    "    OR ((covid_theme == 0) \n",
    "        BUT NOT IF (topic in topics_cov))  -> 2.3\n",
    "\n",
    "Explanation\n",
    "tweets about covid: \n",
    "1.1 Coded tweets (601 to 607)\n",
    "1.2 Tweets automatically classified as being about covid (covid_theme=1). From those, do not consider the ones coded as 608 or manually excluded (theme_hardcoded=0)\n",
    "1.3 Tweets about covid that are still not coded\n",
    "\n",
    "tweets not about covid:\n",
    "2.1 Tweets coded as 608\n",
    "2.2 Tweets manually excluded. From those, do not consider the ones with topic different from 608\n",
    "2.3 Tweets automatically classified as being not about covid (covid_theme=0). From those, do not consider tweets that have been coded\n",
    "\"\"\""
   ]
  },
  {
   "cell_type": "code",
   "execution_count": 12,
   "metadata": {},
   "outputs": [],
   "source": [
    "long_df_covid = Helpers.categorize_df_covid(long_df)\n",
    "long_df_not_covid = Helpers.categorize_df_not_covid(long_df)"
   ]
  },
  {
   "cell_type": "code",
   "execution_count": 13,
   "metadata": {},
   "outputs": [
    {
     "name": "stdout",
     "output_type": "stream",
     "text": [
      "Sanity check long format\n",
      "\n",
      "Tweets about covid:\n",
      "len(long_df_covid)=87136\n",
      "Topics: [602. 601. 605. 604. 603. 606. 607.  nan] \n",
      "\n",
      "Tweets NOT about covid:\n",
      "len(long_df_not_covid)=133371\n",
      "Topics: [ nan 608.]\n",
      "len(long_df)=220507\n",
      "True\n"
     ]
    }
   ],
   "source": [
    "# Sanity check\n",
    "print(\"Sanity check long format\\n\")\n",
    "print(\"Tweets about covid:\")\n",
    "print(f\"{len(long_df_covid)=}\")\n",
    "print(f\"Topics: {long_df_covid['topic'].unique()} \\n\")\n",
    "\n",
    "print(\"Tweets NOT about covid:\")\n",
    "print(f\"{len(long_df_not_covid)=}\")\n",
    "print(f\"Topics: {long_df_not_covid['topic'].unique()}\")\n",
    "\n",
    "print(f\"{len(long_df)=}\")\n",
    "print(len(long_df) == len(long_df_not_covid) + len(long_df_covid))"
   ]
  },
  {
   "cell_type": "code",
   "execution_count": 30,
   "metadata": {},
   "outputs": [],
   "source": [
    "# Reorder columns\n",
    "ordered_cols = [\n",
    "    \"tweet_id\",\n",
    "    \"target_id\",\n",
    "    \"covid_theme\",\n",
    "    \"created_at\",\n",
    "    \"name\",\n",
    "    \"handle\",\n",
    "    \"target\",\n",
    "    \"old_text\",\n",
    "    \"text\",\n",
    "    \"url\",\n",
    "    \"type\",\n",
    "    \"retweets\",\n",
    "    \"favorites\",\n",
    "    \"topic\",\n",
    "    \"subcat\",\n",
    "    \"position\",\n",
    "    \"frame\",\n",
    "    \"theme_hardcoded\",\n",
    "    \"date\",\n",
    "]\n",
    "long_df_not_covid = long_df_not_covid[ordered_cols]\n",
    "long_df_covid = long_df_covid[ordered_cols]"
   ]
  },
  {
   "cell_type": "code",
   "execution_count": 33,
   "metadata": {},
   "outputs": [],
   "source": [
    "# Export to xlsx\n",
    "long_df_not_covid.to_excel(\"src/resources/data/long_not_covid.xlsx\")\n",
    "long_df_covid.to_excel(\"src/resources/data/long_covid.xlsx\")"
   ]
  },
  {
   "cell_type": "code",
   "execution_count": 34,
   "metadata": {},
   "outputs": [],
   "source": [
    "# Some tweets seem to be in neither sets\n",
    "# Investigation\n",
    "\n",
    "# long_df.info()\n",
    "# long_df_not_covid.info()\n",
    "# long_df_covid.info()\n",
    "\n",
    "concat_df = pd.concat([long_df_not_covid, long_df_covid])\n",
    "concat_df_idx = set(concat_df[\"tweet_id\"].values.tolist())\n",
    "\n",
    "long_df_idx = set(long_df[\"tweet_id\"].values.tolist())\n",
    "\n",
    "rest_idx = long_df_idx - concat_df_idx"
   ]
  },
  {
   "cell_type": "code",
   "execution_count": 35,
   "metadata": {},
   "outputs": [
    {
     "name": "stdout",
     "output_type": "stream",
     "text": [
      "len(concat_df_idx)=130809\n",
      "len(long_df_idx)=130809\n",
      "len(rest_idx)=0\n"
     ]
    }
   ],
   "source": [
    "print(f\"{len(concat_df_idx)=}\")\n",
    "print(f\"{len(long_df_idx)=}\")\n",
    "print(f\"{len(rest_idx)=}\")"
   ]
  },
  {
   "cell_type": "code",
   "execution_count": 36,
   "metadata": {},
   "outputs": [
    {
     "data": {
      "text/plain": [
       "array([], dtype=object)"
      ]
     },
     "execution_count": 36,
     "metadata": {},
     "output_type": "execute_result"
    }
   ],
   "source": [
    "# Tweets that are in neither df\n",
    "excl = long_df[long_df[\"tweet_id\"].isin(rest_idx)]\n",
    "excl[\"theme_hardcoded\"].unique()\n",
    "\n",
    "# Those are tweets that have \n",
    "#   topic is None\n",
    "#   covid_theme == 1\n",
    "#   theme_hardcoded is None\n",
    "# -> simply uncoded tweets about covid\n",
    "# should be included long_df_covid"
   ]
  }
 ],
 "metadata": {
  "interpreter": {
   "hash": "607ef8f85d38ab7d98d9598c26f0a0f70958ff3fe818996b9742fe1433b73592"
  },
  "kernelspec": {
   "display_name": "Python 3 (ipykernel)",
   "language": "python",
   "name": "python3"
  },
  "language_info": {
   "codemirror_mode": {
    "name": "ipython",
    "version": 3
   },
   "file_extension": ".py",
   "mimetype": "text/x-python",
   "name": "python",
   "nbconvert_exporter": "python",
   "pygments_lexer": "ipython3",
   "version": "3.9.5"
  }
 },
 "nbformat": 4,
 "nbformat_minor": 4
}
