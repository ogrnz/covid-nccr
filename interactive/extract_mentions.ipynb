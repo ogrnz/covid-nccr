{
 "cells": [
  {
   "cell_type": "code",
   "execution_count": 1,
   "metadata": {},
   "outputs": [],
   "source": [
    "\"\"\"\n",
    "Extract mentions from tweets and reshape into long format\n",
    "\"\"\"\n",
    "\n",
    "import sys, os\n",
    "\n",
    "sys.path.append(os.path.abspath(os.path.join(\"..\", \"src\")))\n",
    "\n",
    "%load_ext autoreload\n",
    "%autoreload 2\n",
    "import re\n",
    "import time\n",
    "\n",
    "import pandas as pd\n",
    "import numpy as np\n",
    "from tqdm import tqdm\n",
    "\n",
    "tqdm.pandas()\n",
    "\n",
    "from common.database import Database\n",
    "from common.app import App\n",
    "from common.helpers import Helpers\n",
    "\n",
    "app_run = App(debug=True)\n",
    "db = Database(\"tweets.db\", app=app_run)"
   ]
  },
  {
   "cell_type": "code",
   "execution_count": 2,
   "metadata": {},
   "outputs": [
    {
     "name": "stdout",
     "output_type": "stream",
     "text": [
      "238523\n"
     ]
    }
   ],
   "source": [
    "with db:\n",
    "    tws = db.get_all_tweets()\n",
    "print(len(tws))\n",
    "df_all = Helpers.df_from_db(tws)"
   ]
  },
  {
   "cell_type": "code",
   "execution_count": 3,
   "metadata": {},
   "outputs": [],
   "source": [
    "# Convert date\n",
    "df_all[\"date\"] = df_all[\"created_at\"].apply(Helpers.convert_date)\n",
    "df_all[\"date\"] = pd.to_datetime(df_all[\"date\"], format=\"%d/%m/%Y\")"
   ]
  },
  {
   "cell_type": "code",
   "execution_count": 4,
   "metadata": {},
   "outputs": [
    {
     "name": "stdout",
     "output_type": "stream",
     "text": [
      "len(df_all_sorted)=185749\n"
     ]
    }
   ],
   "source": [
    "start = \"31/12/2019\"\n",
    "end = \"01/04/2021\"\n",
    "\n",
    "df_all_sorted = df_all[\n",
    "    (df_all[\"date\"] > pd.to_datetime(start, format=\"%d/%m/%Y\"))\n",
    "    & (df_all[\"date\"] < pd.to_datetime(end, format=\"%d/%m/%Y\"))\n",
    "]\n",
    "print(f\"{len(df_all_sorted)=}\") "
   ]
  },
  {
   "cell_type": "code",
   "execution_count": 26,
   "metadata": {},
   "outputs": [],
   "source": [
    "def extract_mentions(txt):\n",
    "    \"\"\"\n",
    "    Extract the twitter mentions of a string\n",
    "\n",
    "    Returns the number of unqiue mentions and the unique mentions\n",
    "    \"\"\"\n",
    "\n",
    "    if not txt:\n",
    "        return\n",
    "\n",
    "    r1 = r\"@[A-Za-z0-9_-]*\"\n",
    "    mentions = set(re.findall(r1, txt))\n",
    "    return len(mentions), mentions"
   ]
  },
  {
   "cell_type": "code",
   "execution_count": 29,
   "metadata": {},
   "outputs": [
    {
     "data": {
      "text/plain": [
       "(6,\n",
       " {'@3t6___adsasd', '@manue123', '@olive', '@opotrac', '@potrac', '@wil-bail'})"
      ]
     },
     "execution_count": 29,
     "metadata": {},
     "output_type": "execute_result"
    }
   ],
   "source": [
    "# Testing\n",
    "txt = \"@manue123 ahahh @olive test @opotrac shouldnot be @potrac counted @potrac @3t6___adsasd @wil-bail\"\n",
    "extract_mentions(txt)"
   ]
  },
  {
   "cell_type": "code",
   "execution_count": 6,
   "metadata": {},
   "outputs": [
    {
     "data": {
      "text/plain": [
       "26.0"
      ]
     },
     "execution_count": 6,
     "metadata": {},
     "output_type": "execute_result"
    }
   ],
   "source": [
    "# Get maximum number of mentions to know how many columns needed\n",
    "max_old = df_all_sorted[\"old_text\"].str.count(r\"@\\w+\").max()  # 22\n",
    "max_txt = df_all_sorted[\"text\"].str.count(r\"@\\w+\").max()  # 26\n",
    "max(max_old, max_txt)"
   ]
  },
  {
   "cell_type": "code",
   "execution_count": 153,
   "metadata": {},
   "outputs": [],
   "source": [
    "# Create the new columns\n",
    "df = df_all_sorted.assign(**{f\"m_{i:02}\": np.nan for i in range(1, 27)})"
   ]
  },
  {
   "cell_type": "code",
   "execution_count": 154,
   "metadata": {},
   "outputs": [],
   "source": [
    "def insert_mentions(row):\n",
    "    old = row[\"old_text\"] if row[\"old_text\"] is not None else \" \"\n",
    "    cur = row[\"text\"] if row[\"text\"] is not None else \" \"\n",
    "\n",
    "    txt = old + \" \" + cur\n",
    "    _, mentions = extract_mentions(txt)\n",
    "\n",
    "    for i, m in enumerate(mentions, start=1):\n",
    "        row.loc[f\"m_{i:02}\"] = m\n",
    "    return row"
   ]
  },
  {
   "cell_type": "code",
   "execution_count": 155,
   "metadata": {},
   "outputs": [
    {
     "name": "stderr",
     "output_type": "stream",
     "text": [
      "100%|██████████| 185749/185749 [00:54<00:00, 3405.35it/s]\n"
     ]
    }
   ],
   "source": [
    "df = df.progress_apply(insert_mentions, axis=1)"
   ]
  },
  {
   "cell_type": "code",
   "execution_count": 161,
   "metadata": {},
   "outputs": [
    {
     "data": {
      "text/html": [
       "<div>\n",
       "<style scoped>\n",
       "    .dataframe tbody tr th:only-of-type {\n",
       "        vertical-align: middle;\n",
       "    }\n",
       "\n",
       "    .dataframe tbody tr th {\n",
       "        vertical-align: top;\n",
       "    }\n",
       "\n",
       "    .dataframe thead th {\n",
       "        text-align: right;\n",
       "    }\n",
       "</style>\n",
       "<table border=\"1\" class=\"dataframe\">\n",
       "  <thead>\n",
       "    <tr style=\"text-align: right;\">\n",
       "      <th></th>\n",
       "      <th>m_01</th>\n",
       "      <th>m_02</th>\n",
       "      <th>m_03</th>\n",
       "      <th>m_04</th>\n",
       "      <th>m_05</th>\n",
       "      <th>m_06</th>\n",
       "      <th>m_07</th>\n",
       "      <th>m_08</th>\n",
       "      <th>m_09</th>\n",
       "      <th>m_10</th>\n",
       "      <th>...</th>\n",
       "      <th>m_18</th>\n",
       "      <th>m_19</th>\n",
       "      <th>m_20</th>\n",
       "      <th>m_21</th>\n",
       "      <th>m_22</th>\n",
       "      <th>m_23</th>\n",
       "      <th>m_24</th>\n",
       "      <th>m_25</th>\n",
       "      <th>m_26</th>\n",
       "      <th>m_27</th>\n",
       "    </tr>\n",
       "  </thead>\n",
       "  <tbody>\n",
       "    <tr>\n",
       "      <th>93140</th>\n",
       "      <td>@AnnaFotyga_PE</td>\n",
       "      <td>NaN</td>\n",
       "      <td>NaN</td>\n",
       "      <td>NaN</td>\n",
       "      <td>NaN</td>\n",
       "      <td>NaN</td>\n",
       "      <td>NaN</td>\n",
       "      <td>NaN</td>\n",
       "      <td>NaN</td>\n",
       "      <td>NaN</td>\n",
       "      <td>...</td>\n",
       "      <td>NaN</td>\n",
       "      <td>NaN</td>\n",
       "      <td>NaN</td>\n",
       "      <td>NaN</td>\n",
       "      <td>NaN</td>\n",
       "      <td>NaN</td>\n",
       "      <td>NaN</td>\n",
       "      <td>NaN</td>\n",
       "      <td>NaN</td>\n",
       "      <td>NaN</td>\n",
       "    </tr>\n",
       "    <tr>\n",
       "      <th>82252</th>\n",
       "      <td>@DrKeithRowley</td>\n",
       "      <td>@DrTedros</td>\n",
       "      <td>@WHO</td>\n",
       "      <td>NaN</td>\n",
       "      <td>NaN</td>\n",
       "      <td>NaN</td>\n",
       "      <td>NaN</td>\n",
       "      <td>NaN</td>\n",
       "      <td>NaN</td>\n",
       "      <td>NaN</td>\n",
       "      <td>...</td>\n",
       "      <td>NaN</td>\n",
       "      <td>NaN</td>\n",
       "      <td>NaN</td>\n",
       "      <td>NaN</td>\n",
       "      <td>NaN</td>\n",
       "      <td>NaN</td>\n",
       "      <td>NaN</td>\n",
       "      <td>NaN</td>\n",
       "      <td>NaN</td>\n",
       "      <td>NaN</td>\n",
       "    </tr>\n",
       "    <tr>\n",
       "      <th>51284</th>\n",
       "      <td>@RobertJenrick</td>\n",
       "      <td>NaN</td>\n",
       "      <td>NaN</td>\n",
       "      <td>NaN</td>\n",
       "      <td>NaN</td>\n",
       "      <td>NaN</td>\n",
       "      <td>NaN</td>\n",
       "      <td>NaN</td>\n",
       "      <td>NaN</td>\n",
       "      <td>NaN</td>\n",
       "      <td>...</td>\n",
       "      <td>NaN</td>\n",
       "      <td>NaN</td>\n",
       "      <td>NaN</td>\n",
       "      <td>NaN</td>\n",
       "      <td>NaN</td>\n",
       "      <td>NaN</td>\n",
       "      <td>NaN</td>\n",
       "      <td>NaN</td>\n",
       "      <td>NaN</td>\n",
       "      <td>NaN</td>\n",
       "    </tr>\n",
       "    <tr>\n",
       "      <th>229407</th>\n",
       "      <td>@Facebook</td>\n",
       "      <td>@Google</td>\n",
       "      <td>@YouTube</td>\n",
       "      <td>@MunSecConf</td>\n",
       "      <td>@Pinterest</td>\n",
       "      <td>@tiktok_us</td>\n",
       "      <td>@Twitter</td>\n",
       "      <td>@TencentGlobal</td>\n",
       "      <td>@DrTedros</td>\n",
       "      <td>NaN</td>\n",
       "      <td>...</td>\n",
       "      <td>NaN</td>\n",
       "      <td>NaN</td>\n",
       "      <td>NaN</td>\n",
       "      <td>NaN</td>\n",
       "      <td>NaN</td>\n",
       "      <td>NaN</td>\n",
       "      <td>NaN</td>\n",
       "      <td>NaN</td>\n",
       "      <td>NaN</td>\n",
       "      <td>NaN</td>\n",
       "    </tr>\n",
       "    <tr>\n",
       "      <th>46359</th>\n",
       "      <td>@WHO</td>\n",
       "      <td>NaN</td>\n",
       "      <td>NaN</td>\n",
       "      <td>NaN</td>\n",
       "      <td>NaN</td>\n",
       "      <td>NaN</td>\n",
       "      <td>NaN</td>\n",
       "      <td>NaN</td>\n",
       "      <td>NaN</td>\n",
       "      <td>NaN</td>\n",
       "      <td>...</td>\n",
       "      <td>NaN</td>\n",
       "      <td>NaN</td>\n",
       "      <td>NaN</td>\n",
       "      <td>NaN</td>\n",
       "      <td>NaN</td>\n",
       "      <td>NaN</td>\n",
       "      <td>NaN</td>\n",
       "      <td>NaN</td>\n",
       "      <td>NaN</td>\n",
       "      <td>NaN</td>\n",
       "    </tr>\n",
       "  </tbody>\n",
       "</table>\n",
       "<p>5 rows × 27 columns</p>\n",
       "</div>"
      ],
      "text/plain": [
       "                  m_01       m_02      m_03         m_04        m_05  \\\n",
       "93140   @AnnaFotyga_PE        NaN       NaN          NaN         NaN   \n",
       "82252   @DrKeithRowley  @DrTedros      @WHO          NaN         NaN   \n",
       "51284   @RobertJenrick        NaN       NaN          NaN         NaN   \n",
       "229407       @Facebook    @Google  @YouTube  @MunSecConf  @Pinterest   \n",
       "46359             @WHO        NaN       NaN          NaN         NaN   \n",
       "\n",
       "              m_06      m_07            m_08       m_09 m_10  ... m_18 m_19  \\\n",
       "93140          NaN       NaN             NaN        NaN  NaN  ...  NaN  NaN   \n",
       "82252          NaN       NaN             NaN        NaN  NaN  ...  NaN  NaN   \n",
       "51284          NaN       NaN             NaN        NaN  NaN  ...  NaN  NaN   \n",
       "229407  @tiktok_us  @Twitter  @TencentGlobal  @DrTedros  NaN  ...  NaN  NaN   \n",
       "46359          NaN       NaN             NaN        NaN  NaN  ...  NaN  NaN   \n",
       "\n",
       "       m_20 m_21 m_22 m_23 m_24 m_25 m_26 m_27  \n",
       "93140   NaN  NaN  NaN  NaN  NaN  NaN  NaN  NaN  \n",
       "82252   NaN  NaN  NaN  NaN  NaN  NaN  NaN  NaN  \n",
       "51284   NaN  NaN  NaN  NaN  NaN  NaN  NaN  NaN  \n",
       "229407  NaN  NaN  NaN  NaN  NaN  NaN  NaN  NaN  \n",
       "46359   NaN  NaN  NaN  NaN  NaN  NaN  NaN  NaN  \n",
       "\n",
       "[5 rows x 27 columns]"
      ]
     },
     "execution_count": 161,
     "metadata": {},
     "output_type": "execute_result"
    }
   ],
   "source": [
    "df.sample(5).loc[:, \"m_01\":\"m_27\"]"
   ]
  },
  {
   "cell_type": "code",
   "execution_count": 163,
   "metadata": {},
   "outputs": [
    {
     "data": {
      "text/plain": [
       "m_01    142348\n",
       "m_02     60701\n",
       "m_03     23912\n",
       "m_04     10780\n",
       "m_05      5533\n",
       "m_06      3251\n",
       "m_07      1990\n",
       "m_08      1240\n",
       "m_09       837\n",
       "m_10       552\n",
       "m_11       349\n",
       "m_12       206\n",
       "m_13       124\n",
       "m_14        81\n",
       "m_15        45\n",
       "m_16        28\n",
       "m_17        18\n",
       "m_18        13\n",
       "m_19        11\n",
       "m_20         8\n",
       "m_21         7\n",
       "m_22         5\n",
       "m_23         4\n",
       "m_24         2\n",
       "m_25         2\n",
       "m_26         2\n",
       "m_27         2\n",
       "dtype: int64"
      ]
     },
     "execution_count": 163,
     "metadata": {},
     "output_type": "execute_result"
    }
   ],
   "source": [
    "df.loc[:, \"m_01\":\"m_27\"].count()"
   ]
  },
  {
   "cell_type": "code",
   "execution_count": null,
   "metadata": {},
   "outputs": [],
   "source": []
  }
 ],
 "metadata": {
  "interpreter": {
   "hash": "607ef8f85d38ab7d98d9598c26f0a0f70958ff3fe818996b9742fe1433b73592"
  },
  "kernelspec": {
   "display_name": "Python 3.9.5 64-bit ('venv': venv)",
   "language": "python",
   "name": "python3"
  },
  "language_info": {
   "codemirror_mode": {
    "name": "ipython",
    "version": 3
   },
   "file_extension": ".py",
   "mimetype": "text/x-python",
   "name": "python",
   "nbconvert_exporter": "python",
   "pygments_lexer": "ipython3",
   "version": "3.9.5"
  },
  "orig_nbformat": 4
 },
 "nbformat": 4,
 "nbformat_minor": 2
}
