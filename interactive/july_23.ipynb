{
 "cells": [
  {
   "cell_type": "code",
   "execution_count": 7,
   "metadata": {},
   "outputs": [
    {
     "name": "stdout",
     "output_type": "stream",
     "text": [
      "The autoreload extension is already loaded. To reload it, use:\n",
      "  %reload_ext autoreload\n"
     ]
    }
   ],
   "source": [
    "\"\"\"\n",
    "Check if created_at field in database matches what is returned from the Twitter API.\n",
    "\n",
    "See descriptives/eda.ipynb (1.1) and descriptives/figures/july_23.png for more information\n",
    "\"\"\"\n",
    "\n",
    "import sys, os\n",
    "\n",
    "sys.path.append(os.path.abspath(os.path.join(\"..\", \"src\")))\n",
    "\n",
    "%load_ext autoreload\n",
    "%autoreload 2\n",
    "import re\n",
    "import time\n",
    "\n",
    "import pandas as pd\n",
    "import numpy as np\n",
    "from tqdm import tqdm\n",
    "\n",
    "tqdm.pandas()\n",
    "\n",
    "from common.app import App\n",
    "from common.database import Database\n",
    "from common.api import Api\n",
    "from common.helpers import Helpers\n",
    "\n",
    "app_run = App(debug=False)\n",
    "db = Database(\"tweets.db\", app=app_run)\n",
    "api = Api()"
   ]
  },
  {
   "cell_type": "code",
   "execution_count": 8,
   "metadata": {},
   "outputs": [
    {
     "name": "stdout",
     "output_type": "stream",
     "text": [
      "len(tws)=238523\n"
     ]
    }
   ],
   "source": [
    "with db:\n",
    "    tws = db.get_all_tweets()\n",
    "print(f\"{len(tws)=}\")\n",
    "df_all = Helpers.df_from_db(tws)"
   ]
  },
  {
   "cell_type": "code",
   "execution_count": 32,
   "metadata": {},
   "outputs": [
    {
     "name": "stdout",
     "output_type": "stream",
     "text": [
      "len(df)=1738\n",
      "Date of subset ['2020-07-23T00:00:00.000000000']\n"
     ]
    }
   ],
   "source": [
    "# Convert date\n",
    "df_all[\"date\"] = df_all[\"created_at\"].apply(Helpers.convert_date)\n",
    "df_all[\"date\"] = pd.to_datetime(df_all[\"date\"], format=\"%d/%m/%Y\")\n",
    "\n",
    "# At first, only take the ones from July 23\n",
    "df = df_all.loc[df_all[\"date\"] == pd.to_datetime(\"2020-07-23\")]\n",
    "print(f\"{len(df)=}\")\n",
    "print(\"Date of subset\", df[\"date\"].unique())"
   ]
  },
  {
   "cell_type": "code",
   "execution_count": 17,
   "metadata": {},
   "outputs": [
    {
     "name": "stdout",
     "output_type": "stream",
     "text": [
      "1738\n"
     ]
    }
   ],
   "source": [
    "# Get ids of tweets\n",
    "tws_idx = df[\"tweet_id\"].values.tolist()\n",
    "print(len(tws_idx))"
   ]
  },
  {
   "cell_type": "code",
   "execution_count": 18,
   "metadata": {},
   "outputs": [
    {
     "name": "stdout",
     "output_type": "stream",
     "text": [
      "Completing tweets..\n"
     ]
    },
    {
     "name": "stderr",
     "output_type": "stream",
     "text": [
      "  0%|          | 0/1738 [00:00<?, ?it/s]"
     ]
    },
    {
     "name": "stdout",
     "output_type": "stream",
     "text": [
      "Starting loop\n"
     ]
    },
    {
     "name": "stderr",
     "output_type": "stream",
     "text": [
      "1800it [00:24, 73.02it/s]"
     ]
    },
    {
     "name": "stdout",
     "output_type": "stream",
     "text": [
      "len(tws)=1738\n"
     ]
    },
    {
     "name": "stderr",
     "output_type": "stream",
     "text": [
      "\n"
     ]
    }
   ],
   "source": [
    "# Retrieve updated tweets\n",
    "tws = api.get_tweets_by_ids(tws_idx)\n",
    "print(f\"{len(tws)=}\")"
   ]
  },
  {
   "cell_type": "code",
   "execution_count": 25,
   "metadata": {},
   "outputs": [
    {
     "data": {
      "text/html": [
       "<div>\n",
       "<style scoped>\n",
       "    .dataframe tbody tr th:only-of-type {\n",
       "        vertical-align: middle;\n",
       "    }\n",
       "\n",
       "    .dataframe tbody tr th {\n",
       "        vertical-align: top;\n",
       "    }\n",
       "\n",
       "    .dataframe thead th {\n",
       "        text-align: right;\n",
       "    }\n",
       "</style>\n",
       "<table border=\"1\" class=\"dataframe\">\n",
       "  <thead>\n",
       "    <tr style=\"text-align: right;\">\n",
       "      <th></th>\n",
       "      <th>tweet_id</th>\n",
       "      <th>covid_theme</th>\n",
       "      <th>created_at</th>\n",
       "      <th>handle</th>\n",
       "      <th>name</th>\n",
       "      <th>old_text</th>\n",
       "      <th>text</th>\n",
       "      <th>type</th>\n",
       "      <th>retweets</th>\n",
       "      <th>favorites</th>\n",
       "      <th>topic</th>\n",
       "      <th>subcat</th>\n",
       "      <th>position</th>\n",
       "      <th>frame</th>\n",
       "      <th>theme_hardcoded</th>\n",
       "      <th>url</th>\n",
       "    </tr>\n",
       "  </thead>\n",
       "  <tbody>\n",
       "    <tr>\n",
       "      <th>717</th>\n",
       "      <td>1293607391737663493</td>\n",
       "      <td>None</td>\n",
       "      <td>None</td>\n",
       "      <td>None</td>\n",
       "      <td>None</td>\n",
       "      <td>None</td>\n",
       "      <td>None</td>\n",
       "      <td>None</td>\n",
       "      <td>None</td>\n",
       "      <td>None</td>\n",
       "      <td>None</td>\n",
       "      <td>None</td>\n",
       "      <td>None</td>\n",
       "      <td>None</td>\n",
       "      <td>None</td>\n",
       "      <td>NaN</td>\n",
       "    </tr>\n",
       "    <tr>\n",
       "      <th>1513</th>\n",
       "      <td>1286210146167861249</td>\n",
       "      <td>None</td>\n",
       "      <td>None</td>\n",
       "      <td>None</td>\n",
       "      <td>None</td>\n",
       "      <td>None</td>\n",
       "      <td>None</td>\n",
       "      <td>None</td>\n",
       "      <td>None</td>\n",
       "      <td>None</td>\n",
       "      <td>None</td>\n",
       "      <td>None</td>\n",
       "      <td>None</td>\n",
       "      <td>None</td>\n",
       "      <td>None</td>\n",
       "      <td>NaN</td>\n",
       "    </tr>\n",
       "  </tbody>\n",
       "</table>\n",
       "</div>"
      ],
      "text/plain": [
       "                 tweet_id covid_theme created_at handle  name old_text  text  \\\n",
       "717   1293607391737663493        None       None   None  None     None  None   \n",
       "1513  1286210146167861249        None       None   None  None     None  None   \n",
       "\n",
       "      type retweets favorites topic subcat position frame theme_hardcoded  url  \n",
       "717   None     None      None  None   None     None  None            None  NaN  \n",
       "1513  None     None      None  None   None     None  None            None  NaN  "
      ]
     },
     "execution_count": 25,
     "metadata": {},
     "output_type": "execute_result"
    }
   ],
   "source": [
    "tws.loc[tws[\"created_at\"].isna()]\n",
    "# 1293607391737663493 deleted tweet\n",
    "# 1286210146167861249 deleted tweet"
   ]
  },
  {
   "cell_type": "code",
   "execution_count": 28,
   "metadata": {},
   "outputs": [],
   "source": [
    "# Drop two deleted tweets\n",
    "tws = tws.drop([717, 1513], axis=0)"
   ]
  },
  {
   "cell_type": "code",
   "execution_count": 30,
   "metadata": {},
   "outputs": [],
   "source": [
    "# Convert new created_at field \n",
    "tws[\"date\"] = tws[\"created_at\"].apply(Helpers.convert_date)\n",
    "tws[\"date\"] = pd.to_datetime(tws[\"date\"], format=\"%d/%m/%Y\")"
   ]
  },
  {
   "cell_type": "code",
   "execution_count": 34,
   "metadata": {},
   "outputs": [
    {
     "data": {
      "text/plain": [
       "array(['23/07/2020 05:45:51', '23/07/2020 07:00:00',\n",
       "       '23/07/2020 07:37:59', ..., '10/12/2020 12:38:34',\n",
       "       '16/03/2020 20:35:50', '02/06/2020 08:29:00'], dtype=object)"
      ]
     },
     "execution_count": 34,
     "metadata": {},
     "output_type": "execute_result"
    }
   ],
   "source": [
    "# We no longer have only July 23\n",
    "tws[\"created_at\"].unique()"
   ]
  },
  {
   "cell_type": "code",
   "execution_count": 36,
   "metadata": {},
   "outputs": [
    {
     "data": {
      "text/plain": [
       "1736"
      ]
     },
     "execution_count": 36,
     "metadata": {},
     "output_type": "execute_result"
    }
   ],
   "source": [
    "len(tws)"
   ]
  },
  {
   "cell_type": "code",
   "execution_count": 38,
   "metadata": {},
   "outputs": [
    {
     "data": {
      "text/plain": [
       "[1286175675540557824,\n",
       " None,\n",
       " '23/07/2020 05:45:51',\n",
       " '@Mitte_Centre',\n",
       " 'Die Mitte – Le Centre',\n",
       " 'RT @paganini_nr: Für mich ist klar: Die #Kündigungsinitiative steht für einen Alleingang der Schweiz in Bildung, Wirtschaft &amp; Forschung. Du…',\n",
       " 'Für mich ist klar: Die #Kündigungsinitiative steht für einen Alleingang der Schweiz in Bildung, Wirtschaft &amp; Forschung. Durch die Annahme der Initiative isolieren wir die Schweiz. Das müssen wir verhindern! @kuendigung_nein #abst20\\nhttps://t.co/bm4gnLnRog',\n",
       " 'Retweet',\n",
       " 8,\n",
       " 0,\n",
       " None,\n",
       " None,\n",
       " None,\n",
       " None,\n",
       " None,\n",
       " 'https://twitter.com/Mitte_Centre/status/1286175675540557824',\n",
       " Timestamp('2020-07-23 00:00:00')]"
      ]
     },
     "execution_count": 38,
     "metadata": {},
     "output_type": "execute_result"
    }
   ],
   "source": [
    "tws.values.tolist()[0]"
   ]
  },
  {
   "cell_type": "code",
   "execution_count": 46,
   "metadata": {},
   "outputs": [
    {
     "name": "stdout",
     "output_type": "stream",
     "text": [
      "len(to_update)=1736\n",
      "1736 tweets updated\n"
     ]
    }
   ],
   "source": [
    "# Update in db\n",
    "to_update = [\n",
    "    (tw[2], tw[0]) for tw in tws.values.tolist()\n",
    "]\n",
    "print(f\"{len(to_update)=}\")\n",
    "\n",
    "with db:\n",
    "    updated = db.update_many(\"created_at\", \"tweet_id\", to_update)\n",
    "print(f\"{updated} tweets updated\")"
   ]
  },
  {
   "cell_type": "code",
   "execution_count": 47,
   "metadata": {},
   "outputs": [
    {
     "name": "stdout",
     "output_type": "stream",
     "text": [
      "len(tws)=238523\n",
      "len(df)=434\n"
     ]
    }
   ],
   "source": [
    "# We had 1738 tweets for July 23\n",
    "with db:\n",
    "    tws = db.get_all_tweets()\n",
    "print(f\"{len(tws)=}\")\n",
    "df_all = Helpers.df_from_db(tws)\n",
    "\n",
    "# Convert date\n",
    "df_all[\"date\"] = df_all[\"created_at\"].apply(Helpers.convert_date)\n",
    "df_all[\"date\"] = pd.to_datetime(df_all[\"date\"], format=\"%d/%m/%Y\")\n",
    "\n",
    "# At first, only take the ones from July 23\n",
    "df = df_all.loc[df_all[\"date\"] == pd.to_datetime(\"2020-07-23\")]\n",
    "print(f\"{len(df)=}\")\n",
    "# And now only 434!\n",
    "# That's normal"
   ]
  },
  {
   "cell_type": "code",
   "execution_count": null,
   "metadata": {},
   "outputs": [],
   "source": []
  }
 ],
 "metadata": {
  "interpreter": {
   "hash": "607ef8f85d38ab7d98d9598c26f0a0f70958ff3fe818996b9742fe1433b73592"
  },
  "kernelspec": {
   "display_name": "Python 3.9.5 64-bit ('venv': venv)",
   "language": "python",
   "name": "python3"
  },
  "language_info": {
   "codemirror_mode": {
    "name": "ipython",
    "version": 3
   },
   "file_extension": ".py",
   "mimetype": "text/x-python",
   "name": "python",
   "nbconvert_exporter": "python",
   "pygments_lexer": "ipython3",
   "version": "3.9.5"
  },
  "orig_nbformat": 4
 },
 "nbformat": 4,
 "nbformat_minor": 2
}
