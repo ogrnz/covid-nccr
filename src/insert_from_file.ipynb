{
 "cells": [
  {
   "cell_type": "code",
   "execution_count": 22,
   "metadata": {},
   "outputs": [
    {
     "data": {
      "text/plain": [
       "'\\nUpdate database from xls file\\n\\nWARNING: The columns of the file must absolutely\\nmatch the sql schema EXCEPT for the first \"covid_theme\" col.\\n\"tweet_id\" is dynamically created if not existing.\\n\\ncolumns_xls=[\\n    [\"tweet_id\"],\\n    \"created_at\",\\n    \"handle\",\\n    \"name\",\\n    \"old_text\",\\n    \"text\",\\n    \"URL\",\\n    \"type\",\\n    \"retweets\",\\n    \"favorites\",\\n    \"topic\",\\n    \"subcat\",\\n    \"position\",\\n    \"frame\",\\n    [\"theme_hardcoded\"],\\n]\\n\\nA \"theme_hardcoded\" is created by default with None values if non-existent\\n'"
      ]
     },
     "execution_count": 22,
     "metadata": {},
     "output_type": "execute_result"
    }
   ],
   "source": [
    "\"\"\"\n",
    "Update database from xls file\n",
    "\n",
    "WARNING: The columns of the file must absolutely\n",
    "match the sql schema EXCEPT for the first \"covid_theme\" col.\n",
    "\"tweet_id\" is dynamically created if not existing.\n",
    "\n",
    "columns_xls=[\n",
    "    [\"tweet_id\"],\n",
    "    \"created_at\",\n",
    "    \"handle\",\n",
    "    \"name\",\n",
    "    \"old_text\",\n",
    "    \"text\",\n",
    "    \"URL\",\n",
    "    \"type\",\n",
    "    \"retweets\",\n",
    "    \"favorites\",\n",
    "    \"topic\",\n",
    "    \"subcat\",\n",
    "    \"position\",\n",
    "    \"frame\",\n",
    "    [\"theme_hardcoded\"],\n",
    "]\n",
    "\n",
    "A \"theme_hardcoded\" is created by default with None values if non-existent\n",
    "\"\"\""
   ]
  },
  {
   "cell_type": "code",
   "execution_count": 23,
   "metadata": {},
   "outputs": [
    {
     "name": "stdout",
     "output_type": "stream",
     "text": [
      "The autoreload extension is already loaded. To reload it, use:\n",
      "  %reload_ext autoreload\n"
     ]
    }
   ],
   "source": [
    "%load_ext autoreload\n",
    "%autoreload 2"
   ]
  },
  {
   "cell_type": "code",
   "execution_count": 24,
   "metadata": {},
   "outputs": [],
   "source": [
    "import hashlib\n",
    "\n",
    "import pandas as pd\n",
    "from tqdm import tqdm\n",
    "\n",
    "from common.app import App\n",
    "from common.database import Database\n",
    "from common.helpers import Helpers\n",
    "\n",
    "app_run = App(debug=True)\n",
    "db = Database(\"tweets.db\", app=app_run)"
   ]
  },
  {
   "cell_type": "code",
   "execution_count": 26,
   "metadata": {},
   "outputs": [
    {
     "name": "stdout",
     "output_type": "stream",
     "text": [
      "Inserting new tweets from  add_theme_hardcoded.xlsx\n",
      "Done inserting 4479 tweets\n",
      "4479 tweets to insert\n",
      "238507 database size before insertion\n",
      "238523 database size before insertion\n"
     ]
    }
   ],
   "source": [
    "files = [\"add_theme_hardcoded.xlsx\"]\n",
    "\n",
    "for filename in files:\n",
    "    print(\"Inserting new tweets from \", filename) \n",
    "\n",
    "    xls = pd.read_excel(f\"src/resources/data/{filename}\")\n",
    "    xls_size = len(xls)\n",
    "\n",
    "    # Remove empty columns\n",
    "    xls = xls.loc[:, ~xls.columns.str.startswith(\"Unnamed:\")]\n",
    "    \n",
    "    # Remove other columns if needed\n",
    "    xls = xls.drop([\"REASON\"], axis=1)\n",
    "\n",
    "    # Add theme_hardcoded if it does not exist\n",
    "    if \"theme_hardcoded\" not in xls.columns:\n",
    "        xls[\"theme_hardcoded\"] = None\n",
    "    \n",
    "    # Add tweet_id if it does not exist\n",
    "    if \"tweet_id\" not in xls.columns.tolist():\n",
    "        xls[\"tweet_id\"] = None\n",
    "        xls[\"tweet_id\"] = xls[\"URL\"].apply(Helpers.extract_id)\n",
    "\n",
    "    # Add covid_theme column\n",
    "    xls[\"covid_theme\"] = 1\n",
    "\n",
    "    # If tweet_id==0, then it's na\n",
    "    # hash the tweet with the date, oldText and text\n",
    "    # and use it as id\n",
    "    mask = xls[\"tweet_id\"] == 0\n",
    "    if not xls.loc[mask, [\"tweet_id\"]].empty:\n",
    "        xls.loc[mask, [\"tweet_id\"]] = (\n",
    "            xls[mask][\"created_at\"].astype(str)\n",
    "            + xls[mask][\"old_text\"].astype(str)\n",
    "            + xls[mask][\"text\"].astype(str)\n",
    "        )\n",
    "        xls.loc[mask, [\"tweet_id\"]] = xls[\"tweet_id\"].apply(\n",
    "            lambda x: str(int(hashlib.sha1(bytes(x, \"utf-8\")).hexdigest(), 16))[:10]\n",
    "        )\n",
    "\n",
    "    # Reorder columns\n",
    "    cols = xls.columns.tolist()\n",
    "    cols.remove(\"covid_theme\")\n",
    "    cols.remove(\"tweet_id\")\n",
    "    cols.insert(0, \"covid_theme\")\n",
    "    cols.insert(0, \"tweet_id\")\n",
    "    xls = xls[cols]\n",
    "\n",
    "    # Insert tweets into db\n",
    "    tweet_entries = [tuple(entry) for entry in xls.to_numpy()]\n",
    "\n",
    "    with db:\n",
    "        db_size_before = db.get_db_size()\n",
    "        inserted = db.insert_or_replace_many(tweet_entries)\n",
    "        db_size_after = db.get_db_size()\n",
    "\n",
    "    print(f\"Done inserting {inserted} tweets\")\n",
    "\n",
    "    # Sanity check\n",
    "    print(f\"{xls_size} tweets to insert\")\n",
    "    print(f\"{db_size_before} database size before insertion\")\n",
    "    print(f\"{db_size_after} database size before insertion\")\n",
    "\n",
    "    # Remember to classify the database if needed\n",
    "\n",
    "# TODO\n",
    "# Sanitize strings (`type`) before inserting\n",
    "# trail spaces and such...\n"
   ]
  },
  {
   "cell_type": "code",
   "execution_count": null,
   "metadata": {},
   "outputs": [],
   "source": []
  }
 ],
 "metadata": {
  "interpreter": {
   "hash": "607ef8f85d38ab7d98d9598c26f0a0f70958ff3fe818996b9742fe1433b73592"
  },
  "kernelspec": {
   "display_name": "Python 3 (ipykernel)",
   "language": "python",
   "name": "python3"
  },
  "language_info": {
   "codemirror_mode": {
    "name": "ipython",
    "version": 3
   },
   "file_extension": ".py",
   "mimetype": "text/x-python",
   "name": "python",
   "nbconvert_exporter": "python",
   "pygments_lexer": "ipython3",
   "version": "3.9.5"
  }
 },
 "nbformat": 4,
 "nbformat_minor": 4
}
