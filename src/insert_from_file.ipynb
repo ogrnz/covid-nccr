{
 "cells": [
  {
   "cell_type": "code",
   "execution_count": 17,
   "metadata": {},
   "outputs": [
    {
     "name": "stdout",
     "output_type": "stream",
     "text": [
      "The autoreload extension is already loaded. To reload it, use:\n",
      "  %reload_ext autoreload\n"
     ]
    }
   ],
   "source": [
    "%load_ext autoreload\n",
    "%autoreload 2"
   ]
  },
  {
   "cell_type": "code",
   "execution_count": 18,
   "metadata": {},
   "outputs": [],
   "source": [
    "import hashlib\n",
    "\n",
    "import pandas as pd\n",
    "from tqdm import tqdm\n",
    "\n",
    "from common.app import App\n",
    "from common.database import Database\n",
    "from common.helpers import Helpers\n",
    "\n",
    "app_run = App(debug=True)\n",
    "db = Database(\"tweets.db\", app=app_run)"
   ]
  },
  {
   "cell_type": "code",
   "execution_count": 19,
   "metadata": {},
   "outputs": [
    {
     "name": "stdout",
     "output_type": "stream",
     "text": [
      "Inserting new tweets from  prepare_insert.xlsx\n",
      "Done inserting 5980 tweets\n",
      "5980 tweets to insert\n",
      "238478 database size before insertion\n",
      "238507 database size before insertion\n"
     ]
    }
   ],
   "source": [
    "files = [\"prepare_insert.xlsx\"]\n",
    "\n",
    "for filename in files:\n",
    "    print(\"Inserting new tweets from \", filename) \n",
    "\n",
    "    xls = pd.read_excel(f\"src/resources/data/{filename}\")\n",
    "    xls_size = len(xls)\n",
    "\n",
    "    # Remove empty columns\n",
    "    xls = xls.loc[:, ~xls.columns.str.startswith(\"Unnamed:\")]\n",
    "\n",
    "    # Add theme_hardcoded if it does not exist\n",
    "    if \"theme_hardcoded\" not in xls.columns:\n",
    "        xls[\"theme_hardcoded\"] = None\n",
    "\n",
    "    # Add covid_theme column\n",
    "    xls[\"covid_theme\"] = 1\n",
    "    \n",
    "    # Check if tweet_id already exists\n",
    "    # If not create the column and extract ids\n",
    "    if \"tweet_id\" not in xls.columns.tolist():\n",
    "        xls[\"tweet_id\"] = None\n",
    "        xls[\"tweet_id\"] = xls[\"URL\"].apply(Helpers.extract_id)\n",
    "\n",
    "    # If tweet_id==0, then it's na\n",
    "    # hash the tweet with the date, oldText and text\n",
    "    # and use it as id\n",
    "    mask = xls[\"tweet_id\"] == 0\n",
    "    if not xls.loc[mask, [\"tweet_id\"]].empty:\n",
    "        xls.loc[mask, [\"tweet_id\"]] = (\n",
    "            xls[mask][\"created_at\"].astype(str)\n",
    "            + xls[mask][\"old_text\"].astype(str)\n",
    "            + xls[mask][\"text\"].astype(str)\n",
    "        )\n",
    "        xls.loc[mask, [\"tweet_id\"]] = xls[\"tweet_id\"].apply(\n",
    "            lambda x: str(int(hashlib.sha1(bytes(x, \"utf-8\")).hexdigest(), 16))[:10]\n",
    "        )\n",
    "\n",
    "    # Reorder columns\n",
    "    cols = xls.columns.tolist()\n",
    "    cols.remove(\"covid_theme\")\n",
    "    cols.remove(\"tweet_id\")\n",
    "    cols.insert(0, \"covid_theme\")\n",
    "    cols.insert(0, \"tweet_id\")\n",
    "    xls = xls[cols]\n",
    "\n",
    "    # Insert tweets into db\n",
    "    tweet_entries = [tuple(entry) for entry in xls.to_numpy()]\n",
    "\n",
    "    with db:\n",
    "        db_size_before = db.get_db_size()\n",
    "        inserted = db.insert_or_replace_many(tweet_entries)\n",
    "        db_size_after = db.get_db_size()\n",
    "\n",
    "    print(f\"Done inserting {inserted} tweets\")\n",
    "\n",
    "    # Sanity check\n",
    "    print(f\"{xls_size} tweets to insert\")\n",
    "    print(f\"{db_size_before} database size before insertion\")\n",
    "    print(f\"{db_size_after} database size before insertion\")\n",
    "\n",
    "    # Remember to classify the database if needed\n",
    "\n",
    "# TODO\n",
    "# Sanitize strings (`type`) before inserting\n",
    "# trail spaces and such...\n"
   ]
  },
  {
   "cell_type": "code",
   "execution_count": null,
   "metadata": {},
   "outputs": [],
   "source": []
  }
 ],
 "metadata": {
  "interpreter": {
   "hash": "607ef8f85d38ab7d98d9598c26f0a0f70958ff3fe818996b9742fe1433b73592"
  },
  "kernelspec": {
   "display_name": "Python 3 (ipykernel)",
   "language": "python",
   "name": "python3"
  },
  "language_info": {
   "codemirror_mode": {
    "name": "ipython",
    "version": 3
   },
   "file_extension": ".py",
   "mimetype": "text/x-python",
   "name": "python",
   "nbconvert_exporter": "python",
   "pygments_lexer": "ipython3",
   "version": "3.9.5"
  }
 },
 "nbformat": 4,
 "nbformat_minor": 4
}
